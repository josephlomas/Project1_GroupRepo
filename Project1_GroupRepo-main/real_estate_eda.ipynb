{
 "cells": [
  {
   "cell_type": "code",
   "execution_count": 1,
   "metadata": {},
   "outputs": [],
   "source": [
    "# Dependencies\n",
    "import pandas as pd\n",
    "import matplotlib.pyplot as plt\n",
    "import numpy as np\n",
    "from pathlib import Path\n",
    "from scipy.stats import linregress\n",
    "import scipy.stats as st"
   ]
  },
  {
   "cell_type": "code",
   "execution_count": 30,
   "metadata": {},
   "outputs": [],
   "source": [
    "# Load in files\n",
    "rent_index_load = Path(\"data-files/Zillow_Observed_Rent_Index_(ZORI).csv\")\n",
    "home_value_index_load = Path(\"data-files/Zillow_Home_Value_Index_(ZHVI).csv\")\n",
    "home_value_forecast_load = Path(\"data-files/Zillow_Home_Value_Forecast_(ZHVF).csv\")\n",
    "percent_home_sold_above_list_load = Path(\"data-files/Percent_homes_sold_above_list.csv\")\n",
    "median_sale_to_list_ratio_load = Path(\"data-files/Median_Sale-to-List_Ratio.csv\")\n",
    "madian_sale_price_load = Path(\"data-files/Median_Sale_Price.csv\")\n",
    "median_days_to_close_load = Path(\"data-files/Median_days_to_close.csv\")\n",
    "\n",
    "# Store files as Data Frame\n",
    "rent_index = pd.read_csv(rent_index_load)\n",
    "home_value_index = pd.read_csv(home_value_index_load)\n",
    "home_value_forecast = pd.read_csv(home_value_forecast_load)\n",
    "percent_home_sold_above_list = pd.read_csv(percent_home_sold_above_list_load)\n",
    "median_sale_to_list_ratio = pd.read_csv(median_sale_to_list_ratio_load)\n",
    "madian_sale_price = pd.read_csv(madian_sale_price_load)\n",
    "median_days_to_close = pd.read_csv(median_days_to_close_load)"
   ]
  },
  {
   "cell_type": "code",
   "execution_count": 31,
   "metadata": {},
   "outputs": [],
   "source": [
    "# Rent Index Graphics"
   ]
  },
  {
   "cell_type": "code",
   "execution_count": 32,
   "metadata": {
    "scrolled": true
   },
   "outputs": [
    {
     "data": {
      "text/html": [
       "<div>\n",
       "<style scoped>\n",
       "    .dataframe tbody tr th:only-of-type {\n",
       "        vertical-align: middle;\n",
       "    }\n",
       "\n",
       "    .dataframe tbody tr th {\n",
       "        vertical-align: top;\n",
       "    }\n",
       "\n",
       "    .dataframe thead th {\n",
       "        text-align: right;\n",
       "    }\n",
       "</style>\n",
       "<table border=\"1\" class=\"dataframe\">\n",
       "  <thead>\n",
       "    <tr style=\"text-align: right;\">\n",
       "      <th></th>\n",
       "      <th>RegionID</th>\n",
       "      <th>SizeRank</th>\n",
       "      <th>RegionName</th>\n",
       "      <th>RegionType</th>\n",
       "      <th>StateName</th>\n",
       "      <th>1/31/2019</th>\n",
       "      <th>2/28/2019</th>\n",
       "      <th>3/31/2019</th>\n",
       "      <th>4/30/2019</th>\n",
       "      <th>5/31/2019</th>\n",
       "      <th>...</th>\n",
       "      <th>12/31/2022</th>\n",
       "      <th>1/31/2023</th>\n",
       "      <th>2/28/2023</th>\n",
       "      <th>3/31/2023</th>\n",
       "      <th>4/30/2023</th>\n",
       "      <th>5/31/2023</th>\n",
       "      <th>6/30/2023</th>\n",
       "      <th>7/31/2023</th>\n",
       "      <th>8/31/2023</th>\n",
       "      <th>9/30/2023</th>\n",
       "    </tr>\n",
       "  </thead>\n",
       "  <tbody>\n",
       "    <tr>\n",
       "      <th>0</th>\n",
       "      <td>102001</td>\n",
       "      <td>0</td>\n",
       "      <td>United States</td>\n",
       "      <td>country</td>\n",
       "      <td>USA</td>\n",
       "      <td>1506.568692</td>\n",
       "      <td>1513.380545</td>\n",
       "      <td>1523.915227</td>\n",
       "      <td>1534.331888</td>\n",
       "      <td>1544.459589</td>\n",
       "      <td>...</td>\n",
       "      <td>1975.835739</td>\n",
       "      <td>1977.938133</td>\n",
       "      <td>1983.983289</td>\n",
       "      <td>1992.489296</td>\n",
       "      <td>2003.280119</td>\n",
       "      <td>2015.846679</td>\n",
       "      <td>2026.886830</td>\n",
       "      <td>2037.184481</td>\n",
       "      <td>2043.719504</td>\n",
       "      <td>2047.095633</td>\n",
       "    </tr>\n",
       "    <tr>\n",
       "      <th>1</th>\n",
       "      <td>394913</td>\n",
       "      <td>1</td>\n",
       "      <td>New York, NY</td>\n",
       "      <td>msa</td>\n",
       "      <td>NY</td>\n",
       "      <td>2658.028349</td>\n",
       "      <td>2668.015671</td>\n",
       "      <td>2683.323173</td>\n",
       "      <td>2701.774818</td>\n",
       "      <td>2722.386695</td>\n",
       "      <td>...</td>\n",
       "      <td>3192.662155</td>\n",
       "      <td>3186.090274</td>\n",
       "      <td>3201.305375</td>\n",
       "      <td>3227.659771</td>\n",
       "      <td>3264.971399</td>\n",
       "      <td>3305.837389</td>\n",
       "      <td>3343.975859</td>\n",
       "      <td>3369.088119</td>\n",
       "      <td>3378.231065</td>\n",
       "      <td>3376.205700</td>\n",
       "    </tr>\n",
       "    <tr>\n",
       "      <th>2</th>\n",
       "      <td>753899</td>\n",
       "      <td>2</td>\n",
       "      <td>Los Angeles, CA</td>\n",
       "      <td>msa</td>\n",
       "      <td>CA</td>\n",
       "      <td>2355.375787</td>\n",
       "      <td>2359.531110</td>\n",
       "      <td>2371.921090</td>\n",
       "      <td>2382.457988</td>\n",
       "      <td>2394.400609</td>\n",
       "      <td>...</td>\n",
       "      <td>2924.394108</td>\n",
       "      <td>2920.801579</td>\n",
       "      <td>2928.269343</td>\n",
       "      <td>2936.661995</td>\n",
       "      <td>2951.164632</td>\n",
       "      <td>2958.004259</td>\n",
       "      <td>2968.798884</td>\n",
       "      <td>2982.964790</td>\n",
       "      <td>2995.886668</td>\n",
       "      <td>3001.423728</td>\n",
       "    </tr>\n",
       "    <tr>\n",
       "      <th>3</th>\n",
       "      <td>394463</td>\n",
       "      <td>3</td>\n",
       "      <td>Chicago, IL</td>\n",
       "      <td>msa</td>\n",
       "      <td>IL</td>\n",
       "      <td>1565.786358</td>\n",
       "      <td>1576.210790</td>\n",
       "      <td>1591.536771</td>\n",
       "      <td>1605.172516</td>\n",
       "      <td>1616.780748</td>\n",
       "      <td>...</td>\n",
       "      <td>1860.947800</td>\n",
       "      <td>1868.049689</td>\n",
       "      <td>1880.888532</td>\n",
       "      <td>1893.637877</td>\n",
       "      <td>1909.273200</td>\n",
       "      <td>1932.058153</td>\n",
       "      <td>1952.481379</td>\n",
       "      <td>1965.321340</td>\n",
       "      <td>1972.630211</td>\n",
       "      <td>1971.321022</td>\n",
       "    </tr>\n",
       "    <tr>\n",
       "      <th>4</th>\n",
       "      <td>394514</td>\n",
       "      <td>4</td>\n",
       "      <td>Dallas, TX</td>\n",
       "      <td>msa</td>\n",
       "      <td>TX</td>\n",
       "      <td>1359.153968</td>\n",
       "      <td>1364.538063</td>\n",
       "      <td>1375.769333</td>\n",
       "      <td>1385.452265</td>\n",
       "      <td>1394.090214</td>\n",
       "      <td>...</td>\n",
       "      <td>1795.720424</td>\n",
       "      <td>1793.799306</td>\n",
       "      <td>1796.900598</td>\n",
       "      <td>1802.831095</td>\n",
       "      <td>1806.282541</td>\n",
       "      <td>1813.190759</td>\n",
       "      <td>1821.711844</td>\n",
       "      <td>1830.681080</td>\n",
       "      <td>1832.988133</td>\n",
       "      <td>1829.204295</td>\n",
       "    </tr>\n",
       "    <tr>\n",
       "      <th>...</th>\n",
       "      <td>...</td>\n",
       "      <td>...</td>\n",
       "      <td>...</td>\n",
       "      <td>...</td>\n",
       "      <td>...</td>\n",
       "      <td>...</td>\n",
       "      <td>...</td>\n",
       "      <td>...</td>\n",
       "      <td>...</td>\n",
       "      <td>...</td>\n",
       "      <td>...</td>\n",
       "      <td>...</td>\n",
       "      <td>...</td>\n",
       "      <td>...</td>\n",
       "      <td>...</td>\n",
       "      <td>...</td>\n",
       "      <td>...</td>\n",
       "      <td>...</td>\n",
       "      <td>...</td>\n",
       "      <td>...</td>\n",
       "      <td>...</td>\n",
       "    </tr>\n",
       "    <tr>\n",
       "      <th>590</th>\n",
       "      <td>845169</td>\n",
       "      <td>874</td>\n",
       "      <td>Rockport, TX</td>\n",
       "      <td>msa</td>\n",
       "      <td>TX</td>\n",
       "      <td>NaN</td>\n",
       "      <td>NaN</td>\n",
       "      <td>NaN</td>\n",
       "      <td>NaN</td>\n",
       "      <td>NaN</td>\n",
       "      <td>...</td>\n",
       "      <td>NaN</td>\n",
       "      <td>NaN</td>\n",
       "      <td>NaN</td>\n",
       "      <td>NaN</td>\n",
       "      <td>NaN</td>\n",
       "      <td>NaN</td>\n",
       "      <td>NaN</td>\n",
       "      <td>NaN</td>\n",
       "      <td>1534.970000</td>\n",
       "      <td>1525.000000</td>\n",
       "    </tr>\n",
       "    <tr>\n",
       "      <th>591</th>\n",
       "      <td>394687</td>\n",
       "      <td>875</td>\n",
       "      <td>Hood River, OR</td>\n",
       "      <td>msa</td>\n",
       "      <td>OR</td>\n",
       "      <td>NaN</td>\n",
       "      <td>NaN</td>\n",
       "      <td>NaN</td>\n",
       "      <td>NaN</td>\n",
       "      <td>NaN</td>\n",
       "      <td>...</td>\n",
       "      <td>NaN</td>\n",
       "      <td>NaN</td>\n",
       "      <td>NaN</td>\n",
       "      <td>NaN</td>\n",
       "      <td>NaN</td>\n",
       "      <td>NaN</td>\n",
       "      <td>2180.467751</td>\n",
       "      <td>2239.970719</td>\n",
       "      <td>2254.306482</td>\n",
       "      <td>2132.777778</td>\n",
       "    </tr>\n",
       "    <tr>\n",
       "      <th>592</th>\n",
       "      <td>395130</td>\n",
       "      <td>890</td>\n",
       "      <td>Sterling, CO</td>\n",
       "      <td>msa</td>\n",
       "      <td>CO</td>\n",
       "      <td>NaN</td>\n",
       "      <td>NaN</td>\n",
       "      <td>NaN</td>\n",
       "      <td>NaN</td>\n",
       "      <td>NaN</td>\n",
       "      <td>...</td>\n",
       "      <td>NaN</td>\n",
       "      <td>NaN</td>\n",
       "      <td>NaN</td>\n",
       "      <td>NaN</td>\n",
       "      <td>NaN</td>\n",
       "      <td>NaN</td>\n",
       "      <td>NaN</td>\n",
       "      <td>NaN</td>\n",
       "      <td>NaN</td>\n",
       "      <td>880.000000</td>\n",
       "    </tr>\n",
       "    <tr>\n",
       "      <th>593</th>\n",
       "      <td>394718</td>\n",
       "      <td>892</td>\n",
       "      <td>Jamestown, ND</td>\n",
       "      <td>msa</td>\n",
       "      <td>ND</td>\n",
       "      <td>NaN</td>\n",
       "      <td>NaN</td>\n",
       "      <td>NaN</td>\n",
       "      <td>NaN</td>\n",
       "      <td>NaN</td>\n",
       "      <td>...</td>\n",
       "      <td>787.488592</td>\n",
       "      <td>791.100033</td>\n",
       "      <td>817.419504</td>\n",
       "      <td>839.187519</td>\n",
       "      <td>865.433625</td>\n",
       "      <td>866.851557</td>\n",
       "      <td>865.791510</td>\n",
       "      <td>868.696063</td>\n",
       "      <td>862.929561</td>\n",
       "      <td>882.777778</td>\n",
       "    </tr>\n",
       "    <tr>\n",
       "      <th>594</th>\n",
       "      <td>394996</td>\n",
       "      <td>915</td>\n",
       "      <td>Portales, NM</td>\n",
       "      <td>msa</td>\n",
       "      <td>NM</td>\n",
       "      <td>NaN</td>\n",
       "      <td>NaN</td>\n",
       "      <td>NaN</td>\n",
       "      <td>NaN</td>\n",
       "      <td>NaN</td>\n",
       "      <td>...</td>\n",
       "      <td>NaN</td>\n",
       "      <td>NaN</td>\n",
       "      <td>NaN</td>\n",
       "      <td>NaN</td>\n",
       "      <td>NaN</td>\n",
       "      <td>924.352133</td>\n",
       "      <td>915.000830</td>\n",
       "      <td>914.970822</td>\n",
       "      <td>899.480127</td>\n",
       "      <td>908.465609</td>\n",
       "    </tr>\n",
       "  </tbody>\n",
       "</table>\n",
       "<p>595 rows × 62 columns</p>\n",
       "</div>"
      ],
      "text/plain": [
       "     RegionID  SizeRank       RegionName RegionType StateName    1/31/2019  \\\n",
       "0      102001         0    United States    country       USA  1506.568692   \n",
       "1      394913         1     New York, NY        msa        NY  2658.028349   \n",
       "2      753899         2  Los Angeles, CA        msa        CA  2355.375787   \n",
       "3      394463         3      Chicago, IL        msa        IL  1565.786358   \n",
       "4      394514         4       Dallas, TX        msa        TX  1359.153968   \n",
       "..        ...       ...              ...        ...       ...          ...   \n",
       "590    845169       874     Rockport, TX        msa        TX          NaN   \n",
       "591    394687       875   Hood River, OR        msa        OR          NaN   \n",
       "592    395130       890     Sterling, CO        msa        CO          NaN   \n",
       "593    394718       892    Jamestown, ND        msa        ND          NaN   \n",
       "594    394996       915     Portales, NM        msa        NM          NaN   \n",
       "\n",
       "       2/28/2019    3/31/2019    4/30/2019    5/31/2019  ...   12/31/2022  \\\n",
       "0    1513.380545  1523.915227  1534.331888  1544.459589  ...  1975.835739   \n",
       "1    2668.015671  2683.323173  2701.774818  2722.386695  ...  3192.662155   \n",
       "2    2359.531110  2371.921090  2382.457988  2394.400609  ...  2924.394108   \n",
       "3    1576.210790  1591.536771  1605.172516  1616.780748  ...  1860.947800   \n",
       "4    1364.538063  1375.769333  1385.452265  1394.090214  ...  1795.720424   \n",
       "..           ...          ...          ...          ...  ...          ...   \n",
       "590          NaN          NaN          NaN          NaN  ...          NaN   \n",
       "591          NaN          NaN          NaN          NaN  ...          NaN   \n",
       "592          NaN          NaN          NaN          NaN  ...          NaN   \n",
       "593          NaN          NaN          NaN          NaN  ...   787.488592   \n",
       "594          NaN          NaN          NaN          NaN  ...          NaN   \n",
       "\n",
       "       1/31/2023    2/28/2023    3/31/2023    4/30/2023    5/31/2023  \\\n",
       "0    1977.938133  1983.983289  1992.489296  2003.280119  2015.846679   \n",
       "1    3186.090274  3201.305375  3227.659771  3264.971399  3305.837389   \n",
       "2    2920.801579  2928.269343  2936.661995  2951.164632  2958.004259   \n",
       "3    1868.049689  1880.888532  1893.637877  1909.273200  1932.058153   \n",
       "4    1793.799306  1796.900598  1802.831095  1806.282541  1813.190759   \n",
       "..           ...          ...          ...          ...          ...   \n",
       "590          NaN          NaN          NaN          NaN          NaN   \n",
       "591          NaN          NaN          NaN          NaN          NaN   \n",
       "592          NaN          NaN          NaN          NaN          NaN   \n",
       "593   791.100033   817.419504   839.187519   865.433625   866.851557   \n",
       "594          NaN          NaN          NaN          NaN   924.352133   \n",
       "\n",
       "       6/30/2023    7/31/2023    8/31/2023    9/30/2023  \n",
       "0    2026.886830  2037.184481  2043.719504  2047.095633  \n",
       "1    3343.975859  3369.088119  3378.231065  3376.205700  \n",
       "2    2968.798884  2982.964790  2995.886668  3001.423728  \n",
       "3    1952.481379  1965.321340  1972.630211  1971.321022  \n",
       "4    1821.711844  1830.681080  1832.988133  1829.204295  \n",
       "..           ...          ...          ...          ...  \n",
       "590          NaN          NaN  1534.970000  1525.000000  \n",
       "591  2180.467751  2239.970719  2254.306482  2132.777778  \n",
       "592          NaN          NaN          NaN   880.000000  \n",
       "593   865.791510   868.696063   862.929561   882.777778  \n",
       "594   915.000830   914.970822   899.480127   908.465609  \n",
       "\n",
       "[595 rows x 62 columns]"
      ]
     },
     "execution_count": 32,
     "metadata": {},
     "output_type": "execute_result"
    }
   ],
   "source": [
    "# Only show the last five years of data\n",
    "rent_index_labels = rent_index.loc[:, :\"StateName\"]\n",
    "rent_index_5_year_sample_data = rent_index.loc[:, '1/31/2019':]\n",
    "rent_index = pd.concat([rent_index_labels, rent_index_5_year_sample_data], axis=1)\n",
    "rent_index"
   ]
  },
  {
   "cell_type": "code",
   "execution_count": 29,
   "metadata": {},
   "outputs": [
    {
     "ename": "NameError",
     "evalue": "name 'T25_rent_index_region_groupby_org_recent_August' is not defined",
     "output_type": "error",
     "traceback": [
      "\u001b[1;31m---------------------------------------------------------------------------\u001b[0m",
      "\u001b[1;31mNameError\u001b[0m                                 Traceback (most recent call last)",
      "Cell \u001b[1;32mIn[29], line 6\u001b[0m\n\u001b[0;32m      4\u001b[0m T25_rent_index_region_groupby_org \u001b[38;5;241m=\u001b[39m T25_rent_index_region_groupby\u001b[38;5;241m.\u001b[39mnlargest(\u001b[38;5;241m25\u001b[39m, \u001b[38;5;124m\"\u001b[39m\u001b[38;5;124m8/31/2023\u001b[39m\u001b[38;5;124m\"\u001b[39m)\n\u001b[0;32m      5\u001b[0m T25_rent_index_region_groupby_org_recent \u001b[38;5;241m=\u001b[39m T25_rent_index_region_groupby_org\u001b[38;5;241m.\u001b[39mloc[:, \u001b[38;5;124m\"\u001b[39m\u001b[38;5;124m8/31/2023\u001b[39m\u001b[38;5;124m\"\u001b[39m]\n\u001b[1;32m----> 6\u001b[0m T25_rent_index_region_groupby_org_recent_August\u001b[38;5;241m.\u001b[39mplot(kind\u001b[38;5;241m=\u001b[39m\u001b[38;5;124m'\u001b[39m\u001b[38;5;124mbar\u001b[39m\u001b[38;5;124m'\u001b[39m)\n\u001b[0;32m      7\u001b[0m plt\u001b[38;5;241m.\u001b[39mtitle(\u001b[38;5;124m\"\u001b[39m\u001b[38;5;124mTop 25 Regions by Monthly Rent (August 2023)\u001b[39m\u001b[38;5;124m\"\u001b[39m)\n\u001b[0;32m      8\u001b[0m plt\u001b[38;5;241m.\u001b[39mxlabel(\u001b[38;5;124m\"\u001b[39m\u001b[38;5;124mRegion\u001b[39m\u001b[38;5;124m\"\u001b[39m)\n",
      "\u001b[1;31mNameError\u001b[0m: name 'T25_rent_index_region_groupby_org_recent_August' is not defined"
     ]
    }
   ],
   "source": [
    "# Top 25 Regions by Monthly Rent\n",
    "T25_rent_index_region = rent_index.drop(['RegionID', 'SizeRank', 'RegionType', 'StateName'], axis=1)\n",
    "T25_rent_index_region_groupby = T25_rent_index_region.groupby('RegionName').mean()\n",
    "T25_rent_index_region_groupby_org = T25_rent_index_region_groupby.nlargest(25, \"8/31/2023\")\n",
    "T25_rent_index_region_groupby_org_recent = T25_rent_index_region_groupby_org.loc[:, \"8/31/2023\"]\n",
    "T25_rent_index_region_groupby_org_recent_August.plot(kind='bar')\n",
    "plt.title(\"Top 25 Regions by Monthly Rent (August 2023)\")\n",
    "plt.xlabel(\"Region\")\n",
    "plt.ylabel(\"Dollars per Month ($)\")\n",
    "plt.show()"
   ]
  },
  {
   "cell_type": "code",
   "execution_count": 28,
   "metadata": {},
   "outputs": [
    {
     "data": {
      "image/png": "[encoded data removed]",
      "text/plain": [
       "<Figure size 640x480 with 1 Axes>"
      ]
     },
     "metadata": {},
     "output_type": "display_data"
    }
   ],
   "source": [
    "# Top 10 States by Monthly Rent\n",
    "T10_rent_index_state = rent_index.drop(['RegionID', 'SizeRank', 'RegionType', 'RegionName'], axis=1)\n",
    "T10_rent_index_state_groupby = T10_rent_index_state.groupby('StateName').mean()\n",
    "T10_rent_index_state_groupby_org = T10_rent_index_state_groupby.nlargest(10, \"8/31/2023\")\n",
    "T10_rent_index_state_groupby_org_recent = T10_rent_index_state_groupby_org.loc[:, \"8/31/2023\"]\n",
    "T10_rent_index_state_groupby_org_recent.plot(kind='bar')\n",
    "plt.title(\"Top 10 States by Monthly Rent (August 2023)\")\n",
    "plt.xlabel(\"State\")\n",
    "plt.ylabel(\"Dollars per Month ($)\")\n",
    "plt.show()"
   ]
  },
  {
   "cell_type": "code",
   "execution_count": null,
   "metadata": {},
   "outputs": [],
   "source": [
    "# Bottom 25 Regions by Monthly Rent\n",
    "B25_rent_index_region = rent_index.drop(['RegionID', 'SizeRank', 'RegionType', 'StateName'], axis=1)\n",
    "B25_rent_index_region_groupby = B25_rent_index_region.groupby('RegionName').mean()\n",
    "B25_rent_index_region_groupby_org = B25_rent_index_region_groupby.nsmallest(25, \"8/31/2023\")\n",
    "B25_rent_index_region_groupby_org_recent = B25_rent_index_region_groupby_org.loc[:, \"8/31/2023\"]\n",
    "B25_rent_index_region_groupby_org_recent.plot(kind='bar')\n",
    "plt.title(\"Bottom 25 Regions by Monthly Rent (August 2023)\")\n",
    "plt.xlabel(\"Region\")\n",
    "plt.ylabel(\"Dollars per Month ($)\")\n",
    "plt.show()"
   ]
  },
  {
   "cell_type": "code",
   "execution_count": 22,
   "metadata": {},
   "outputs": [
    {
     "data": {
      "image/png": "[encoded data removed]",
      "text/plain": [
       "<Figure size 640x480 with 1 Axes>"
      ]
     },
     "metadata": {},
     "output_type": "display_data"
    }
   ],
   "source": [
    "# Bottom 10 States by Monthly Rent\n",
    "B10_rent_index_state = rent_index.drop(['RegionID', 'SizeRank', 'RegionType', 'RegionName'], axis=1)\n",
    "B10_rent_index_state_groupby = B10_rent_index_state.groupby('StateName').mean()\n",
    "B10_rent_index_state_groupby_org = B10_rent_index_state_groupby.nsmallest(10, \"8/31/2023\")\n",
    "B10_rent_index_state_groupby_org_recent = B10_rent_index_state_groupby_org.loc[:, \"8/31/2023\"]\n",
    "B10_rent_index_state_groupby_org_recent.plot(kind='bar')\n",
    "plt.title(\"Bottom 10 States by Monthly Rent (August 2023)\")\n",
    "plt.xlabel(\"State\")\n",
    "plt.ylabel(\"Dollars per Month ($)\")\n",
    "plt.show()"
   ]
  },
  {
   "cell_type": "code",
   "execution_count": 7,
   "metadata": {},
   "outputs": [],
   "source": [
    "# Median Sale Price Graphics"
   ]
  },
  {
   "cell_type": "code",
   "execution_count": 8,
   "metadata": {},
   "outputs": [
    {
     "data": {
      "text/html": [
       "<div>\n",
       "<style scoped>\n",
       "    .dataframe tbody tr th:only-of-type {\n",
       "        vertical-align: middle;\n",
       "    }\n",
       "\n",
       "    .dataframe tbody tr th {\n",
       "        vertical-align: top;\n",
       "    }\n",
       "\n",
       "    .dataframe thead th {\n",
       "        text-align: right;\n",
       "    }\n",
       "</style>\n",
       "<table border=\"1\" class=\"dataframe\">\n",
       "  <thead>\n",
       "    <tr style=\"text-align: right;\">\n",
       "      <th></th>\n",
       "      <th>RegionID</th>\n",
       "      <th>SizeRank</th>\n",
       "      <th>RegionName</th>\n",
       "      <th>RegionType</th>\n",
       "      <th>StateName</th>\n",
       "      <th>1/31/2019</th>\n",
       "      <th>2/28/2019</th>\n",
       "      <th>3/31/2019</th>\n",
       "      <th>4/30/2019</th>\n",
       "      <th>5/31/2019</th>\n",
       "      <th>...</th>\n",
       "      <th>11/30/2022</th>\n",
       "      <th>12/31/2022</th>\n",
       "      <th>1/31/2023</th>\n",
       "      <th>2/28/2023</th>\n",
       "      <th>3/31/2023</th>\n",
       "      <th>4/30/2023</th>\n",
       "      <th>5/31/2023</th>\n",
       "      <th>6/30/2023</th>\n",
       "      <th>7/31/2023</th>\n",
       "      <th>8/31/2023</th>\n",
       "    </tr>\n",
       "  </thead>\n",
       "  <tbody>\n",
       "    <tr>\n",
       "      <th>0</th>\n",
       "      <td>102001</td>\n",
       "      <td>0</td>\n",
       "      <td>United States</td>\n",
       "      <td>country</td>\n",
       "      <td>USA</td>\n",
       "      <td>230000.0</td>\n",
       "      <td>230000.0</td>\n",
       "      <td>239900.0</td>\n",
       "      <td>245000.0</td>\n",
       "      <td>251000.0</td>\n",
       "      <td>...</td>\n",
       "      <td>325000.0</td>\n",
       "      <td>320000.0</td>\n",
       "      <td>320000.0</td>\n",
       "      <td>329755.0</td>\n",
       "      <td>340000.0</td>\n",
       "      <td>350000.0</td>\n",
       "      <td>360000.0</td>\n",
       "      <td>366000.0</td>\n",
       "      <td>362000.0</td>\n",
       "      <td>360000</td>\n",
       "    </tr>\n",
       "    <tr>\n",
       "      <th>1</th>\n",
       "      <td>394913</td>\n",
       "      <td>1</td>\n",
       "      <td>New York, NY</td>\n",
       "      <td>msa</td>\n",
       "      <td>NY</td>\n",
       "      <td>390000.0</td>\n",
       "      <td>395000.0</td>\n",
       "      <td>389000.0</td>\n",
       "      <td>395000.0</td>\n",
       "      <td>403000.0</td>\n",
       "      <td>...</td>\n",
       "      <td>520000.0</td>\n",
       "      <td>510000.0</td>\n",
       "      <td>520000.0</td>\n",
       "      <td>505000.0</td>\n",
       "      <td>515000.0</td>\n",
       "      <td>539000.0</td>\n",
       "      <td>565000.0</td>\n",
       "      <td>585000.0</td>\n",
       "      <td>600000.0</td>\n",
       "      <td>610000</td>\n",
       "    </tr>\n",
       "    <tr>\n",
       "      <th>2</th>\n",
       "      <td>753899</td>\n",
       "      <td>2</td>\n",
       "      <td>Los Angeles, CA</td>\n",
       "      <td>msa</td>\n",
       "      <td>CA</td>\n",
       "      <td>601000.0</td>\n",
       "      <td>615000.0</td>\n",
       "      <td>630000.0</td>\n",
       "      <td>640000.0</td>\n",
       "      <td>640000.0</td>\n",
       "      <td>...</td>\n",
       "      <td>830000.0</td>\n",
       "      <td>810000.0</td>\n",
       "      <td>815000.0</td>\n",
       "      <td>825000.0</td>\n",
       "      <td>841000.0</td>\n",
       "      <td>850000.0</td>\n",
       "      <td>868000.0</td>\n",
       "      <td>900000.0</td>\n",
       "      <td>895000.0</td>\n",
       "      <td>900000</td>\n",
       "    </tr>\n",
       "    <tr>\n",
       "      <th>3</th>\n",
       "      <td>394463</td>\n",
       "      <td>3</td>\n",
       "      <td>Chicago, IL</td>\n",
       "      <td>msa</td>\n",
       "      <td>IL</td>\n",
       "      <td>217000.0</td>\n",
       "      <td>222000.0</td>\n",
       "      <td>234500.0</td>\n",
       "      <td>240000.0</td>\n",
       "      <td>245000.0</td>\n",
       "      <td>...</td>\n",
       "      <td>275000.0</td>\n",
       "      <td>270000.0</td>\n",
       "      <td>265000.0</td>\n",
       "      <td>272000.0</td>\n",
       "      <td>290000.0</td>\n",
       "      <td>300000.0</td>\n",
       "      <td>310000.0</td>\n",
       "      <td>326050.0</td>\n",
       "      <td>319700.0</td>\n",
       "      <td>320000</td>\n",
       "    </tr>\n",
       "    <tr>\n",
       "      <th>4</th>\n",
       "      <td>394514</td>\n",
       "      <td>4</td>\n",
       "      <td>Dallas, TX</td>\n",
       "      <td>msa</td>\n",
       "      <td>TX</td>\n",
       "      <td>240000.0</td>\n",
       "      <td>249900.0</td>\n",
       "      <td>260000.0</td>\n",
       "      <td>263000.0</td>\n",
       "      <td>275000.0</td>\n",
       "      <td>...</td>\n",
       "      <td>375000.0</td>\n",
       "      <td>360000.0</td>\n",
       "      <td>355000.0</td>\n",
       "      <td>372000.0</td>\n",
       "      <td>374700.0</td>\n",
       "      <td>385000.0</td>\n",
       "      <td>395000.0</td>\n",
       "      <td>405000.0</td>\n",
       "      <td>400000.0</td>\n",
       "      <td>395000</td>\n",
       "    </tr>\n",
       "    <tr>\n",
       "      <th>...</th>\n",
       "      <td>...</td>\n",
       "      <td>...</td>\n",
       "      <td>...</td>\n",
       "      <td>...</td>\n",
       "      <td>...</td>\n",
       "      <td>...</td>\n",
       "      <td>...</td>\n",
       "      <td>...</td>\n",
       "      <td>...</td>\n",
       "      <td>...</td>\n",
       "      <td>...</td>\n",
       "      <td>...</td>\n",
       "      <td>...</td>\n",
       "      <td>...</td>\n",
       "      <td>...</td>\n",
       "      <td>...</td>\n",
       "      <td>...</td>\n",
       "      <td>...</td>\n",
       "      <td>...</td>\n",
       "      <td>...</td>\n",
       "      <td>...</td>\n",
       "    </tr>\n",
       "    <tr>\n",
       "      <th>573</th>\n",
       "      <td>395206</td>\n",
       "      <td>825</td>\n",
       "      <td>Washington Court House, OH</td>\n",
       "      <td>msa</td>\n",
       "      <td>OH</td>\n",
       "      <td>NaN</td>\n",
       "      <td>NaN</td>\n",
       "      <td>NaN</td>\n",
       "      <td>NaN</td>\n",
       "      <td>NaN</td>\n",
       "      <td>...</td>\n",
       "      <td>NaN</td>\n",
       "      <td>NaN</td>\n",
       "      <td>NaN</td>\n",
       "      <td>NaN</td>\n",
       "      <td>150000.0</td>\n",
       "      <td>160500.0</td>\n",
       "      <td>139000.0</td>\n",
       "      <td>180000.0</td>\n",
       "      <td>174500.0</td>\n",
       "      <td>195000</td>\n",
       "    </tr>\n",
       "    <tr>\n",
       "      <th>574</th>\n",
       "      <td>394864</td>\n",
       "      <td>833</td>\n",
       "      <td>Mineral Wells, TX</td>\n",
       "      <td>msa</td>\n",
       "      <td>TX</td>\n",
       "      <td>NaN</td>\n",
       "      <td>NaN</td>\n",
       "      <td>NaN</td>\n",
       "      <td>NaN</td>\n",
       "      <td>NaN</td>\n",
       "      <td>...</td>\n",
       "      <td>NaN</td>\n",
       "      <td>NaN</td>\n",
       "      <td>NaN</td>\n",
       "      <td>230000.0</td>\n",
       "      <td>279000.0</td>\n",
       "      <td>215000.0</td>\n",
       "      <td>280000.0</td>\n",
       "      <td>285000.0</td>\n",
       "      <td>250750.0</td>\n",
       "      <td>242500</td>\n",
       "    </tr>\n",
       "    <tr>\n",
       "      <th>575</th>\n",
       "      <td>395159</td>\n",
       "      <td>848</td>\n",
       "      <td>Toccoa, GA</td>\n",
       "      <td>msa</td>\n",
       "      <td>GA</td>\n",
       "      <td>104000.0</td>\n",
       "      <td>133500.0</td>\n",
       "      <td>105900.0</td>\n",
       "      <td>120750.0</td>\n",
       "      <td>165000.0</td>\n",
       "      <td>...</td>\n",
       "      <td>205500.0</td>\n",
       "      <td>198500.0</td>\n",
       "      <td>228500.0</td>\n",
       "      <td>163125.0</td>\n",
       "      <td>191500.0</td>\n",
       "      <td>200000.0</td>\n",
       "      <td>226000.0</td>\n",
       "      <td>202500.0</td>\n",
       "      <td>213000.0</td>\n",
       "      <td>225000</td>\n",
       "    </tr>\n",
       "    <tr>\n",
       "      <th>576</th>\n",
       "      <td>753921</td>\n",
       "      <td>867</td>\n",
       "      <td>Steamboat Springs, CO</td>\n",
       "      <td>msa</td>\n",
       "      <td>CO</td>\n",
       "      <td>482500.0</td>\n",
       "      <td>459000.0</td>\n",
       "      <td>404000.0</td>\n",
       "      <td>464000.0</td>\n",
       "      <td>485000.0</td>\n",
       "      <td>...</td>\n",
       "      <td>806000.0</td>\n",
       "      <td>1025000.0</td>\n",
       "      <td>774125.0</td>\n",
       "      <td>677500.0</td>\n",
       "      <td>522500.0</td>\n",
       "      <td>841250.0</td>\n",
       "      <td>790000.0</td>\n",
       "      <td>757000.0</td>\n",
       "      <td>897000.0</td>\n",
       "      <td>860000</td>\n",
       "    </tr>\n",
       "    <tr>\n",
       "      <th>577</th>\n",
       "      <td>394718</td>\n",
       "      <td>892</td>\n",
       "      <td>Jamestown, ND</td>\n",
       "      <td>msa</td>\n",
       "      <td>ND</td>\n",
       "      <td>NaN</td>\n",
       "      <td>NaN</td>\n",
       "      <td>NaN</td>\n",
       "      <td>NaN</td>\n",
       "      <td>NaN</td>\n",
       "      <td>...</td>\n",
       "      <td>NaN</td>\n",
       "      <td>NaN</td>\n",
       "      <td>NaN</td>\n",
       "      <td>NaN</td>\n",
       "      <td>NaN</td>\n",
       "      <td>NaN</td>\n",
       "      <td>NaN</td>\n",
       "      <td>NaN</td>\n",
       "      <td>NaN</td>\n",
       "      <td>209000</td>\n",
       "    </tr>\n",
       "  </tbody>\n",
       "</table>\n",
       "<p>578 rows × 61 columns</p>\n",
       "</div>"
      ],
      "text/plain": [
       "     RegionID  SizeRank                  RegionName RegionType StateName  \\\n",
       "0      102001         0               United States    country       USA   \n",
       "1      394913         1                New York, NY        msa        NY   \n",
       "2      753899         2             Los Angeles, CA        msa        CA   \n",
       "3      394463         3                 Chicago, IL        msa        IL   \n",
       "4      394514         4                  Dallas, TX        msa        TX   \n",
       "..        ...       ...                         ...        ...       ...   \n",
       "573    395206       825  Washington Court House, OH        msa        OH   \n",
       "574    394864       833           Mineral Wells, TX        msa        TX   \n",
       "575    395159       848                  Toccoa, GA        msa        GA   \n",
       "576    753921       867       Steamboat Springs, CO        msa        CO   \n",
       "577    394718       892               Jamestown, ND        msa        ND   \n",
       "\n",
       "     1/31/2019  2/28/2019  3/31/2019  4/30/2019  5/31/2019  ...  11/30/2022  \\\n",
       "0     230000.0   230000.0   239900.0   245000.0   251000.0  ...    325000.0   \n",
       "1     390000.0   395000.0   389000.0   395000.0   403000.0  ...    520000.0   \n",
       "2     601000.0   615000.0   630000.0   640000.0   640000.0  ...    830000.0   \n",
       "3     217000.0   222000.0   234500.0   240000.0   245000.0  ...    275000.0   \n",
       "4     240000.0   249900.0   260000.0   263000.0   275000.0  ...    375000.0   \n",
       "..         ...        ...        ...        ...        ...  ...         ...   \n",
       "573        NaN        NaN        NaN        NaN        NaN  ...         NaN   \n",
       "574        NaN        NaN        NaN        NaN        NaN  ...         NaN   \n",
       "575   104000.0   133500.0   105900.0   120750.0   165000.0  ...    205500.0   \n",
       "576   482500.0   459000.0   404000.0   464000.0   485000.0  ...    806000.0   \n",
       "577        NaN        NaN        NaN        NaN        NaN  ...         NaN   \n",
       "\n",
       "     12/31/2022  1/31/2023  2/28/2023  3/31/2023  4/30/2023  5/31/2023  \\\n",
       "0      320000.0   320000.0   329755.0   340000.0   350000.0   360000.0   \n",
       "1      510000.0   520000.0   505000.0   515000.0   539000.0   565000.0   \n",
       "2      810000.0   815000.0   825000.0   841000.0   850000.0   868000.0   \n",
       "3      270000.0   265000.0   272000.0   290000.0   300000.0   310000.0   \n",
       "4      360000.0   355000.0   372000.0   374700.0   385000.0   395000.0   \n",
       "..          ...        ...        ...        ...        ...        ...   \n",
       "573         NaN        NaN        NaN   150000.0   160500.0   139000.0   \n",
       "574         NaN        NaN   230000.0   279000.0   215000.0   280000.0   \n",
       "575    198500.0   228500.0   163125.0   191500.0   200000.0   226000.0   \n",
       "576   1025000.0   774125.0   677500.0   522500.0   841250.0   790000.0   \n",
       "577         NaN        NaN        NaN        NaN        NaN        NaN   \n",
       "\n",
       "     6/30/2023  7/31/2023  8/31/2023  \n",
       "0     366000.0   362000.0     360000  \n",
       "1     585000.0   600000.0     610000  \n",
       "2     900000.0   895000.0     900000  \n",
       "3     326050.0   319700.0     320000  \n",
       "4     405000.0   400000.0     395000  \n",
       "..         ...        ...        ...  \n",
       "573   180000.0   174500.0     195000  \n",
       "574   285000.0   250750.0     242500  \n",
       "575   202500.0   213000.0     225000  \n",
       "576   757000.0   897000.0     860000  \n",
       "577        NaN        NaN     209000  \n",
       "\n",
       "[578 rows x 61 columns]"
      ]
     },
     "execution_count": 8,
     "metadata": {},
     "output_type": "execute_result"
    }
   ],
   "source": [
    "# Only show the last five years of data\n",
    "madian_sale_price_labels = madian_sale_price.loc[:, :\"StateName\"]\n",
    "madian_sale_price_5_year_sample_data = madian_sale_price.loc[:, '1/31/2019':]\n",
    "madian_sale_price = pd.concat([madian_sale_price_labels, madian_sale_price_5_year_sample_data], axis=1)\n",
    "madian_sale_price"
   ]
  },
  {
   "cell_type": "code",
   "execution_count": 9,
   "metadata": {},
   "outputs": [
    {
     "data": {
      "image/png": "[encoded data removed]",
      "text/plain": [
       "<Figure size 640x480 with 1 Axes>"
      ]
     },
     "metadata": {},
     "output_type": "display_data"
    }
   ],
   "source": [
    "# Top 25 Regions by Median Sale Price\n",
    "T25_madian_sale_price_region = madian_sale_price.drop(['RegionID', 'SizeRank', 'RegionType', 'StateName'], axis=1)\n",
    "T25_madian_sale_price_region_groupby = T25_madian_sale_price_region.groupby('RegionName').mean()\n",
    "T25_madian_sale_price_region_groupby_org = T25_madian_sale_price_region_groupby.nlargest(25, \"8/31/2023\")\n",
    "T25_madian_sale_price_region_groupby_org_recent = T25_madian_sale_price_region_groupby_org.loc[:, \"8/31/2023\"]\n",
    "T25_madian_sale_price_region_groupby_org_recent.plot(kind='bar')\n",
    "plt.title(\"Top 25 Regions by Median Sale Price (August 2023)\")\n",
    "plt.xlabel(\"Region\")\n",
    "plt.ylabel(\"Millions of Dollars ($)\")\n",
    "plt.show()"
   ]
  },
  {
   "cell_type": "code",
   "execution_count": 10,
   "metadata": {},
   "outputs": [
    {
     "data": {
      "image/png": "[encoded data removed]",
      "text/plain": [
       "<Figure size 640x480 with 1 Axes>"
      ]
     },
     "metadata": {},
     "output_type": "display_data"
    }
   ],
   "source": [
    "# Top 10 States by Median Sale Price\n",
    "T10_madian_sale_price_state = madian_sale_price.drop(['RegionID', 'SizeRank', 'RegionType', 'RegionName'], axis=1)\n",
    "T10_madian_sale_price_state_groupby = T10_madian_sale_price_state.groupby('StateName').mean()\n",
    "T10_madian_sale_price_state_groupby_org = T10_madian_sale_price_state_groupby.nlargest(10, \"8/31/2023\")\n",
    "T10_madian_sale_price_state_groupby_org_recent = T10_madian_sale_price_state_groupby_org.loc[:, \"8/31/2023\"]\n",
    "T10_madian_sale_price_state_groupby_org_recent.plot(kind='bar')\n",
    "plt.title(\"Top 10 States by Median Sale Price (August 2023)\")\n",
    "plt.xlabel(\"State\")\n",
    "plt.ylabel(\"Millions of Dollars ($)\")\n",
    "plt.show()"
   ]
  },
  {
   "cell_type": "code",
   "execution_count": 11,
   "metadata": {},
   "outputs": [
    {
     "data": {
      "image/png": "[encoded data removed]",
      "text/plain": [
       "<Figure size 640x480 with 1 Axes>"
      ]
     },
     "metadata": {},
     "output_type": "display_data"
    }
   ],
   "source": [
    "# Bottom 25 Regions by Home Value\n",
    "B25_madian_sale_price_region = madian_sale_price.drop(['RegionID', 'SizeRank', 'RegionType', 'StateName'], axis=1)\n",
    "B25_madian_sale_price_region_groupby = B25_madian_sale_price_region.groupby('RegionName').mean()\n",
    "B25_madian_sale_price_region_groupby_org = B25_madian_sale_price_region_groupby.nsmallest(25, \"8/31/2023\")\n",
    "B25_madian_sale_price_region_groupby_org_recent = B25_madian_sale_price_region_groupby_org.loc[:, \"8/31/2023\"]\n",
    "B25_madian_sale_price_region_groupby_org_recent.plot(kind='bar')\n",
    "plt.title(\"Bottom 25 Regions by Median Sale Price (August 2023)\")\n",
    "plt.xlabel(\"Region\")\n",
    "plt.ylabel(\"Millions of Dollars ($)\")\n",
    "plt.show()"
   ]
  },
  {
   "cell_type": "code",
   "execution_count": 12,
   "metadata": {},
   "outputs": [
    {
     "data": {
      "image/png": "[encoded data removed]",
      "text/plain": [
       "<Figure size 640x480 with 1 Axes>"
      ]
     },
     "metadata": {},
     "output_type": "display_data"
    }
   ],
   "source": [
    "# Bottom 10 States by Home Value\n",
    "B10_madian_sale_price_state = madian_sale_price.drop(['RegionID', 'SizeRank', 'RegionType', 'RegionName'], axis=1)\n",
    "B10_madian_sale_price_state_groupby = B10_madian_sale_price_state.groupby('StateName').mean()\n",
    "B10_madian_sale_price_state_groupby_org = B10_madian_sale_price_state_groupby.nsmallest(10, \"8/31/2023\")\n",
    "B10_madian_sale_price_state_groupby_org_recent = B10_madian_sale_price_state_groupby_org.loc[:, \"8/31/2023\"]\n",
    "B10_madian_sale_price_state_groupby_org_recent.plot(kind='bar')\n",
    "plt.title(\"Bottom 10 States by Median Sale Price (August 2023)\")\n",
    "plt.xlabel(\"State\")\n",
    "plt.ylabel(\"Millions of Dollars ($)\")\n",
    "plt.show()"
   ]
  },
  {
   "cell_type": "code",
   "execution_count": 13,
   "metadata": {},
   "outputs": [],
   "source": [
    "# Correlation to Between Home Value and Rental Price"
   ]
  },
  {
   "cell_type": "code",
   "execution_count": 14,
   "metadata": {},
   "outputs": [
    {
     "data": {
      "text/html": [
       "<div>\n",
       "<style scoped>\n",
       "    .dataframe tbody tr th:only-of-type {\n",
       "        vertical-align: middle;\n",
       "    }\n",
       "\n",
       "    .dataframe tbody tr th {\n",
       "        vertical-align: top;\n",
       "    }\n",
       "\n",
       "    .dataframe thead th {\n",
       "        text-align: right;\n",
       "    }\n",
       "</style>\n",
       "<table border=\"1\" class=\"dataframe\">\n",
       "  <thead>\n",
       "    <tr style=\"text-align: right;\">\n",
       "      <th></th>\n",
       "      <th>8/31/2023 - RI</th>\n",
       "    </tr>\n",
       "    <tr>\n",
       "      <th>Region</th>\n",
       "      <th></th>\n",
       "    </tr>\n",
       "  </thead>\n",
       "  <tbody>\n",
       "    <tr>\n",
       "      <th>Aberdeen, WA</th>\n",
       "      <td>1310.091583</td>\n",
       "    </tr>\n",
       "    <tr>\n",
       "      <th>Abilene, TX</th>\n",
       "      <td>1215.852681</td>\n",
       "    </tr>\n",
       "    <tr>\n",
       "      <th>Ada, OK</th>\n",
       "      <td>940.728310</td>\n",
       "    </tr>\n",
       "    <tr>\n",
       "      <th>Adrian, MI</th>\n",
       "      <td>1210.098387</td>\n",
       "    </tr>\n",
       "    <tr>\n",
       "      <th>Akron, OH</th>\n",
       "      <td>1209.298394</td>\n",
       "    </tr>\n",
       "    <tr>\n",
       "      <th>...</th>\n",
       "      <td>...</td>\n",
       "    </tr>\n",
       "    <tr>\n",
       "      <th>York, PA</th>\n",
       "      <td>1210.904835</td>\n",
       "    </tr>\n",
       "    <tr>\n",
       "      <th>Youngstown, OH</th>\n",
       "      <td>906.580920</td>\n",
       "    </tr>\n",
       "    <tr>\n",
       "      <th>Yuba City, CA</th>\n",
       "      <td>1778.751068</td>\n",
       "    </tr>\n",
       "    <tr>\n",
       "      <th>Yuma, AZ</th>\n",
       "      <td>1449.789472</td>\n",
       "    </tr>\n",
       "    <tr>\n",
       "      <th>Zanesville, OH</th>\n",
       "      <td>898.909470</td>\n",
       "    </tr>\n",
       "  </tbody>\n",
       "</table>\n",
       "<p>595 rows × 1 columns</p>\n",
       "</div>"
      ],
      "text/plain": [
       "                8/31/2023 - RI\n",
       "Region                        \n",
       "Aberdeen, WA       1310.091583\n",
       "Abilene, TX        1215.852681\n",
       "Ada, OK             940.728310\n",
       "Adrian, MI         1210.098387\n",
       "Akron, OH          1209.298394\n",
       "...                        ...\n",
       "York, PA           1210.904835\n",
       "Youngstown, OH      906.580920\n",
       "Yuba City, CA      1778.751068\n",
       "Yuma, AZ           1449.789472\n",
       "Zanesville, OH      898.909470\n",
       "\n",
       "[595 rows x 1 columns]"
      ]
     },
     "execution_count": 14,
     "metadata": {},
     "output_type": "execute_result"
    }
   ],
   "source": [
    "# Organize Rent Index data\n",
    "rent_index_region = rent_index.drop(['RegionID', 'SizeRank', 'RegionType', 'StateName'], axis=1)\n",
    "rent_index_region_groupby = rent_index_region.groupby('RegionName').mean()\n",
    "rent_index_region_groupby_recent = rent_index_region_groupby[\"8/31/2023\"]\n",
    "rent_index_region_groupby_recent_df = pd.DataFrame({'Region': rent_index_region_groupby_recent.index, 'Rent': rent_index_region_groupby_recent.values})\n",
    "rent_index_region_groupby_recent_df = rent_index_region_groupby_recent_df.groupby('Region').mean()\n",
    "rent_index_region_groupby_recent_df_RI = rent_index_region_groupby_recent_df.rename(columns={\"Rent\":\"8/31/2023 - RI\"})\n",
    "rent_index_region_groupby_recent_df_RI"
   ]
  },
  {
   "cell_type": "code",
   "execution_count": 15,
   "metadata": {},
   "outputs": [
    {
     "data": {
      "text/html": [
       "<div>\n",
       "<style scoped>\n",
       "    .dataframe tbody tr th:only-of-type {\n",
       "        vertical-align: middle;\n",
       "    }\n",
       "\n",
       "    .dataframe tbody tr th {\n",
       "        vertical-align: top;\n",
       "    }\n",
       "\n",
       "    .dataframe thead th {\n",
       "        text-align: right;\n",
       "    }\n",
       "</style>\n",
       "<table border=\"1\" class=\"dataframe\">\n",
       "  <thead>\n",
       "    <tr style=\"text-align: right;\">\n",
       "      <th></th>\n",
       "      <th>8/31/2023 - MSP</th>\n",
       "    </tr>\n",
       "    <tr>\n",
       "      <th>Region</th>\n",
       "      <th></th>\n",
       "    </tr>\n",
       "  </thead>\n",
       "  <tbody>\n",
       "    <tr>\n",
       "      <th>Abilene, TX</th>\n",
       "      <td>220000.0</td>\n",
       "    </tr>\n",
       "    <tr>\n",
       "      <th>Ada, OK</th>\n",
       "      <td>150000.0</td>\n",
       "    </tr>\n",
       "    <tr>\n",
       "      <th>Adrian, MI</th>\n",
       "      <td>221250.0</td>\n",
       "    </tr>\n",
       "    <tr>\n",
       "      <th>Akron, OH</th>\n",
       "      <td>206091.0</td>\n",
       "    </tr>\n",
       "    <tr>\n",
       "      <th>Albany, NY</th>\n",
       "      <td>320000.0</td>\n",
       "    </tr>\n",
       "    <tr>\n",
       "      <th>...</th>\n",
       "      <td>...</td>\n",
       "    </tr>\n",
       "    <tr>\n",
       "      <th>Yakima, WA</th>\n",
       "      <td>375000.0</td>\n",
       "    </tr>\n",
       "    <tr>\n",
       "      <th>York, PA</th>\n",
       "      <td>265000.0</td>\n",
       "    </tr>\n",
       "    <tr>\n",
       "      <th>Youngstown, OH</th>\n",
       "      <td>155000.0</td>\n",
       "    </tr>\n",
       "    <tr>\n",
       "      <th>Yuma, AZ</th>\n",
       "      <td>282500.0</td>\n",
       "    </tr>\n",
       "    <tr>\n",
       "      <th>Zanesville, OH</th>\n",
       "      <td>196000.0</td>\n",
       "    </tr>\n",
       "  </tbody>\n",
       "</table>\n",
       "<p>578 rows × 1 columns</p>\n",
       "</div>"
      ],
      "text/plain": [
       "                8/31/2023 - MSP\n",
       "Region                         \n",
       "Abilene, TX            220000.0\n",
       "Ada, OK                150000.0\n",
       "Adrian, MI             221250.0\n",
       "Akron, OH              206091.0\n",
       "Albany, NY             320000.0\n",
       "...                         ...\n",
       "Yakima, WA             375000.0\n",
       "York, PA               265000.0\n",
       "Youngstown, OH         155000.0\n",
       "Yuma, AZ               282500.0\n",
       "Zanesville, OH         196000.0\n",
       "\n",
       "[578 rows x 1 columns]"
      ]
     },
     "execution_count": 15,
     "metadata": {},
     "output_type": "execute_result"
    }
   ],
   "source": [
    "# Organize Median Sale Price data\n",
    "madian_sale_price_region = madian_sale_price.drop(['RegionID', 'SizeRank', 'RegionType', 'StateName'], axis=1)\n",
    "madian_sale_price_region_groupby = madian_sale_price_region.groupby('RegionName').mean()\n",
    "madian_sale_price_region_groupby_recent = madian_sale_price_region_groupby.loc[:, \"8/31/2023\"]\n",
    "madian_sale_price_region_groupby_recent_df = pd.DataFrame({'Region': madian_sale_price_region_groupby_recent.index, 'Rent': madian_sale_price_region_groupby_recent.values})\n",
    "madian_sale_price_region_groupby_recent_df = madian_sale_price_region_groupby_recent_df.groupby('Region').mean()\n",
    "madian_sale_price_region_groupby_recent__df_MSP = madian_sale_price_region_groupby_recent_df.rename(columns={\"Rent\":\"8/31/2023 - MSP\"})\n",
    "madian_sale_price_region_groupby_recent__df_MSP"
   ]
  },
  {
   "cell_type": "code",
   "execution_count": 16,
   "metadata": {},
   "outputs": [
    {
     "data": {
      "text/plain": [
       "<matplotlib.collections.PathCollection at 0x219b7bcf550>"
      ]
     },
     "execution_count": 16,
     "metadata": {},
     "output_type": "execute_result"
    },
    {
     "data": {
      "image/png": "[encoded data removed]",
      "text/plain": [
       "<Figure size 640x480 with 1 Axes>"
      ]
     },
     "metadata": {},
     "output_type": "display_data"
    }
   ],
   "source": [
    "# Plot Scatter\n",
    "scatter_plot_df = pd.concat([rent_index_region_groupby_recent_df_RI, madian_sale_price_region_groupby_recent__df_MSP], axis=1)\n",
    "scatter_plot_df_cleaned = scatter_plot_df.dropna()\n",
    "plt.scatter(scatter_plot_df_cleaned[\"8/31/2023 - RI\"], scatter_plot_df_cleaned[\"8/31/2023 - MSP\"], marker=\"o\", facecolors=\"blue\")"
   ]
  },
  {
   "cell_type": "code",
   "execution_count": 17,
   "metadata": {},
   "outputs": [
    {
     "name": "stdout",
     "output_type": "stream",
     "text": [
      "The correlation between the rent price and median sale price is 0.87\n"
     ]
    },
    {
     "data": {
      "image/png": "[encoded data removed]",
      "text/plain": [
       "<Figure size 640x480 with 1 Axes>"
      ]
     },
     "metadata": {},
     "output_type": "display_data"
    }
   ],
   "source": [
    "# Linear regression on Northern Hemisphere\n",
    "x_values = scatter_plot_df_cleaned['8/31/2023 - RI']\n",
    "y_values = scatter_plot_df_cleaned['8/31/2023 - MSP']\n",
    "\n",
    "# Calculate the slope\n",
    "(slope, intercept, rvalue, pvalue, stderr) = linregress(x_values, y_values)\n",
    "regress_values = x_values * slope + intercept\n",
    "line_eq = \"y = \" + str(round(slope,2)) + \"x + \" + str(round(intercept,2))\n",
    "\n",
    "# Create plot\n",
    "plt.scatter(x_values,y_values)\n",
    "plt.plot(x_values,regress_values,\"r-\")\n",
    "plt.annotate(line_eq,(5.8,0.8),fontsize=15,color=\"red\")\n",
    "plt.xlabel('Monthly Rent ($)')\n",
    "plt.ylabel('Median Sale Price in Millions ($)')\n",
    "plt.title('Median Sale Price vs. Home Value')\n",
    "\n",
    "# Calculate and show correlation\n",
    "correlation = st.pearsonr(x_values, y_values)\n",
    "print(f\"The correlation between the rent price and median sale price is {round(correlation[0],2)}\")"
   ]
  },
  {
   "cell_type": "code",
   "execution_count": 18,
   "metadata": {},
   "outputs": [],
   "source": [
    "# Median Days to Close vs. Percent Home Sold Above list"
   ]
  },
  {
   "cell_type": "code",
   "execution_count": 19,
   "metadata": {},
   "outputs": [
    {
     "data": {
      "text/plain": [
       "<matplotlib.collections.PathCollection at 0x219b7f4f4d0>"
      ]
     },
     "execution_count": 19,
     "metadata": {},
     "output_type": "execute_result"
    },
    {
     "data": {
      "image/png": "[encoded data removed]",
      "text/plain": [
       "<Figure size 640x480 with 1 Axes>"
      ]
     },
     "metadata": {},
     "output_type": "display_data"
    }
   ],
   "source": [
    "# Only show the last five years of data\n",
    "\n",
    "# Median Days to Close\n",
    "median_days_to_close_region = median_days_to_close.drop(['RegionID', 'SizeRank', 'RegionType', 'StateName'], axis=1)\n",
    "median_days_to_close_region_groupby = median_days_to_close_region.groupby('RegionName').mean()\n",
    "median_days_to_close_region_groupby_recent = median_days_to_close_region_groupby.loc[:, \"8/31/2023\":]\n",
    "median_days_to_close_region_groupby_recent_MDTC = median_days_to_close_region_groupby_recent.rename(columns={\"8/31/2023\":\"8/31/2023 - MDTC\"})\n",
    "median_days_to_close_region_groupby_recent_MDTC\n",
    "\n",
    "# Percent Home Sold Above list\n",
    "percent_home_sold_above_list_region = percent_home_sold_above_list.drop(['RegionID', 'SizeRank', 'RegionType', 'StateName'], axis=1)\n",
    "percent_home_sold_above_list_region_groupby = percent_home_sold_above_list_region.groupby('RegionName').mean()\n",
    "percent_home_sold_above_list_region_groupby_recent = percent_home_sold_above_list_region_groupby.loc[:, \"8/31/2023\":]\n",
    "percent_home_sold_above_list_region_groupby_recent_PHSAL = percent_home_sold_above_list_region_groupby_recent.rename(columns={\"8/31/2023\":\"8/31/2023 - PHSAL\"})\n",
    "percent_home_sold_above_list_region_groupby_recent_PHSAL\n",
    "\n",
    "# Plot Scatter\n",
    "scatter_plot_df_2 = pd.concat([median_days_to_close_region_groupby_recent_MDTC, percent_home_sold_above_list_region_groupby_recent_PHSAL], axis=1)\n",
    "scatter_plot_df_2_cleaned = scatter_plot_df_2.dropna()\n",
    "plt.scatter(scatter_plot_df_2_cleaned[\"8/31/2023 - MDTC\"], scatter_plot_df_2_cleaned[\"8/31/2023 - PHSAL\"], marker=\"o\", facecolors=\"blue\")"
   ]
  },
  {
   "cell_type": "code",
   "execution_count": 20,
   "metadata": {},
   "outputs": [
    {
     "data": {
      "text/plain": [
       "Text(0.5, 1.0, 'Scatter Plot of Median Days to Close vs. Percent Homes Sold Above List for All Regions')"
      ]
     },
     "execution_count": 20,
     "metadata": {},
     "output_type": "execute_result"
    },
    {
     "data": {
      "image/png": "[encoded data removed]",
      "text/plain": [
       "<Figure size 1000x800 with 1 Axes>"
      ]
     },
     "metadata": {},
     "output_type": "display_data"
    }
   ],
   "source": [
    "plt.figure(figsize=(10, 8))\n",
    "\n",
    "# Divide the plot into four quadrants\n",
    "plt.axvline(x=scatter_plot_df_2_cleaned['8/31/2023 - MDTC'].median(), color='black', linestyle='--', linewidth=1, label='Median Days to Close')\n",
    "plt.axhline(y=scatter_plot_df_2_cleaned['8/31/2023 - PHSAL'].median(), color='black', linestyle='--', linewidth=1, label='Percent Homes Sold Above List')\n",
    "\n",
    "# Plot the data points\n",
    "scatter = plt.scatter(scatter_plot_df_2_cleaned[\"8/31/2023 - MDTC\"], scatter_plot_df_2_cleaned[\"8/31/2023 - PHSAL\"], marker=\"o\", facecolors=\"blue\")\n",
    "\n",
    "# Add labels for each data point (state abbreviation)\n",
    "#for i, txt in enumerate(selected_states_data_sorted['StateName']):\n",
    "    #plt.text(selected_states_data_sorted['Avg_Days_To_Close'].iloc[i], selected_states_data_sorted['Percent_Home_Sold_Above_List'].iloc[i], txt, ha='right', va='bottom')\n",
    "plt.xlabel('Median Days to Close')\n",
    "plt.ylabel('Percent Homes Sold Above List')\n",
    "plt.title('Scatter Plot of Median Days to Close vs. Percent Homes Sold Above List for All Regions')"
   ]
  },
  {
   "cell_type": "code",
   "execution_count": 53,
   "metadata": {},
   "outputs": [
    {
     "name": "stdout",
     "output_type": "stream",
     "text": [
      "   StateName      8/31/2023\n",
      "0         IL  150316.666667\n",
      "1         WV  185000.000000\n",
      "2         OH  185026.138889\n",
      "3         OK  187145.833333\n",
      "4         LA  203893.750000\n",
      "5         IN  206998.217391\n",
      "6         AR  215750.000000\n",
      "7         IA  215750.000000\n",
      "8         KY  221004.166667\n",
      "9         MS  222500.000000\n",
      "10        AL  223070.833333\n",
      "11        MO  223338.235294\n",
      "12        PA  226993.782609\n",
      "13        NM  232583.333333\n",
      "14        MI  233446.608696\n",
      "15        NE  249794.400000\n",
      "16        WI  254738.095238\n",
      "17        ND  263816.666667\n",
      "18        KS  277000.000000\n",
      "19        MN  277266.666667\n",
      "20        TX  279527.096774\n",
      "21        GA  280518.181818\n",
      "22        TN  283502.500000\n",
      "23        NY  287397.368421\n",
      "24        SC  299808.333333\n",
      "25        NC  308535.937500\n",
      "26        MD  320625.000000\n",
      "27        ME  333750.000000\n",
      "28        VA  350655.555556\n",
      "29        FL  352809.615385\n",
      "30        SD  356225.000000\n",
      "31       USA  360000.000000\n",
      "32        DE  363000.000000\n",
      "33        NJ  372889.250000\n",
      "34        AK  375000.000000\n",
      "35        NH  396275.000000\n",
      "36        CT  405200.000000\n",
      "37        AZ  413404.333333\n",
      "38        ID  418229.222222\n",
      "39        OR  430043.333333\n",
      "40        RI  444500.000000\n",
      "41        WY  453600.000000\n",
      "42        NV  464833.333333\n",
      "43        MT  465412.500000\n",
      "44        MA  484505.000000\n",
      "45        WA  491183.333333\n",
      "46        UT  552142.142857\n",
      "47        CA  615958.333333\n",
      "48        CO  628425.000000\n",
      "49        HI  836625.000000\n"
     ]
    }
   ],
   "source": [
    "# Median Sale Price By State (August 2023)\n",
    "B10_madian_sale_price_state = madian_sale_price.drop(['RegionID', 'SizeRank', 'RegionType', 'RegionName'], axis=1)\n",
    "B10_madian_sale_price_state_groupby = B10_madian_sale_price_state.groupby('StateName').mean()\n",
    "B10_madian_sale_price_state_groupby_org = B10_madian_sale_price_state_groupby.nsmallest(51, \"8/31/2023\")\n",
    "B10_madian_sale_price_state_groupby_org_recent = B10_madian_sale_price_state_groupby_org.loc[:, \"8/31/2023\"]\n",
    "B10_madian_sale_price_state_groupby_org_recent_df = B10_madian_sale_price_state_groupby_org_recent.reset_index()\n",
    "B10_madian_sale_price_state_groupby_org_recent_df.columns = ['StateName', '8/31/2023']\n",
    "print(B10_madian_sale_price_state_groupby_org_recent_df)"
   ]
  },
  {
   "cell_type": "code",
   "execution_count": 54,
   "metadata": {},
   "outputs": [
    {
     "data": {
      "application/vnd.plotly.v1+json": {
       "config": {
        "plotlyServerURL": "https://plot.ly"
       },
       "data": [
        {
         "colorbar": {
          "title": {
           "text": "USD"
          }
         },
         "colorscale": [
          [
           0,
           "rgb(255,245,240)"
          ],
          [
           0.125,
           "rgb(254,224,210)"
          ],
          [
           0.25,
           "rgb(252,187,161)"
          ],
          [
           0.375,
           "rgb(252,146,114)"
          ],
          [
           0.5,
           "rgb(251,106,74)"
          ],
          [
           0.625,
           "rgb(239,59,44)"
          ],
          [
           0.75,
           "rgb(203,24,29)"
          ],
          [
           0.875,
           "rgb(165,15,21)"
          ],
          [
           1,
           "rgb(103,0,13)"
          ]
         ],
         "locationmode": "USA-states",
         "locations": [
          "IL",
          "WV",
          "OH",
          "OK",
          "LA",
          "IN",
          "AR",
          "IA",
          "KY",
          "MS",
          "AL",
          "MO",
          "PA",
          "NM",
          "MI",
          "NE",
          "WI",
          "ND",
          "KS",
          "MN",
          "TX",
          "GA",
          "TN",
          "NY",
          "SC",
          "NC",
          "MD",
          "ME",
          "VA",
          "FL",
          "SD",
          "USA",
          "DE",
          "NJ",
          "AK",
          "NH",
          "CT",
          "AZ",
          "ID",
          "OR",
          "RI",
          "WY",
          "NV",
          "MT",
          "MA",
          "WA",
          "UT",
          "CA",
          "CO",
          "HI"
         ],
         "type": "choropleth",
         "z": [
          150316.66666666666,
          185000,
          185026.13888888888,
          187145.83333333334,
          203893.75,
          206998.21739130435,
          215750,
          215750,
          221004.16666666666,
          222500,
          223070.83333333334,
          223338.23529411765,
          226993.78260869565,
          232583.33333333334,
          233446.60869565216,
          249794.4,
          254738.09523809524,
          263816.6666666667,
          277000,
          277266.6666666667,
          279527.0967741936,
          280518.1818181818,
          283502.5,
          287397.36842105264,
          299808.3333333333,
          308535.9375,
          320625,
          333750,
          350655.55555555556,
          352809.6153846154,
          356225,
          360000,
          363000,
          372889.25,
          375000,
          396275,
          405200,
          413404.3333333333,
          418229.22222222225,
          430043.3333333333,
          444500,
          453600,
          464833.3333333333,
          465412.5,
          484505,
          491183.3333333333,
          552142.1428571428,
          615958.3333333334,
          628425,
          836625
         ]
        }
       ],
       "layout": {
        "geo": {
         "scope": "usa"
        },
        "template": {
         "data": {
          "bar": [
           {
            "error_x": {
             "color": "#2a3f5f"
            },
            "error_y": {
             "color": "#2a3f5f"
            },
            "marker": {
             "line": {
              "color": "#E5ECF6",
              "width": 0.5
             },
             "pattern": {
              "fillmode": "overlay",
              "size": 10,
              "solidity": 0.2
             }
            },
            "type": "bar"
           }
          ],
          "barpolar": [
           {
            "marker": {
             "line": {
              "color": "#E5ECF6",
              "width": 0.5
             },
             "pattern": {
              "fillmode": "overlay",
              "size": 10,
              "solidity": 0.2
             }
            },
            "type": "barpolar"
           }
          ],
          "carpet": [
           {
            "aaxis": {
             "endlinecolor": "#2a3f5f",
             "gridcolor": "white",
             "linecolor": "white",
             "minorgridcolor": "white",
             "startlinecolor": "#2a3f5f"
            },
            "baxis": {
             "endlinecolor": "#2a3f5f",
             "gridcolor": "white",
             "linecolor": "white",
             "minorgridcolor": "white",
             "startlinecolor": "#2a3f5f"
            },
            "type": "carpet"
           }
          ],
          "choropleth": [
           {
            "colorbar": {
             "outlinewidth": 0,
             "ticks": ""
            },
            "type": "choropleth"
           }
          ],
          "contour": [
           {
            "colorbar": {
             "outlinewidth": 0,
             "ticks": ""
            },
            "colorscale": [
             [
              0,
              "#0d0887"
             ],
             [
              0.1111111111111111,
              "#46039f"
             ],
             [
              0.2222222222222222,
              "#7201a8"
             ],
             [
              0.3333333333333333,
              "#9c179e"
             ],
             [
              0.4444444444444444,
              "#bd3786"
             ],
             [
              0.5555555555555556,
              "#d8576b"
             ],
             [
              0.6666666666666666,
              "#ed7953"
             ],
             [
              0.7777777777777778,
              "#fb9f3a"
             ],
             [
              0.8888888888888888,
              "#fdca26"
             ],
             [
              1,
              "#f0f921"
             ]
            ],
            "type": "contour"
           }
          ],
          "contourcarpet": [
           {
            "colorbar": {
             "outlinewidth": 0,
             "ticks": ""
            },
            "type": "contourcarpet"
           }
          ],
          "heatmap": [
           {
            "colorbar": {
             "outlinewidth": 0,
             "ticks": ""
            },
            "colorscale": [
             [
              0,
              "#0d0887"
             ],
             [
              0.1111111111111111,
              "#46039f"
             ],
             [
              0.2222222222222222,
              "#7201a8"
             ],
             [
              0.3333333333333333,
              "#9c179e"
             ],
             [
              0.4444444444444444,
              "#bd3786"
             ],
             [
              0.5555555555555556,
              "#d8576b"
             ],
             [
              0.6666666666666666,
              "#ed7953"
             ],
             [
              0.7777777777777778,
              "#fb9f3a"
             ],
             [
              0.8888888888888888,
              "#fdca26"
             ],
             [
              1,
              "#f0f921"
             ]
            ],
            "type": "heatmap"
           }
          ],
          "heatmapgl": [
           {
            "colorbar": {
             "outlinewidth": 0,
             "ticks": ""
            },
            "colorscale": [
             [
              0,
              "#0d0887"
             ],
             [
              0.1111111111111111,
              "#46039f"
             ],
             [
              0.2222222222222222,
              "#7201a8"
             ],
             [
              0.3333333333333333,
              "#9c179e"
             ],
             [
              0.4444444444444444,
              "#bd3786"
             ],
             [
              0.5555555555555556,
              "#d8576b"
             ],
             [
              0.6666666666666666,
              "#ed7953"
             ],
             [
              0.7777777777777778,
              "#fb9f3a"
             ],
             [
              0.8888888888888888,
              "#fdca26"
             ],
             [
              1,
              "#f0f921"
             ]
            ],
            "type": "heatmapgl"
           }
          ],
          "histogram": [
           {
            "marker": {
             "pattern": {
              "fillmode": "overlay",
              "size": 10,
              "solidity": 0.2
             }
            },
            "type": "histogram"
           }
          ],
          "histogram2d": [
           {
            "colorbar": {
             "outlinewidth": 0,
             "ticks": ""
            },
            "colorscale": [
             [
              0,
              "#0d0887"
             ],
             [
              0.1111111111111111,
              "#46039f"
             ],
             [
              0.2222222222222222,
              "#7201a8"
             ],
             [
              0.3333333333333333,
              "#9c179e"
             ],
             [
              0.4444444444444444,
              "#bd3786"
             ],
             [
              0.5555555555555556,
              "#d8576b"
             ],
             [
              0.6666666666666666,
              "#ed7953"
             ],
             [
              0.7777777777777778,
              "#fb9f3a"
             ],
             [
              0.8888888888888888,
              "#fdca26"
             ],
             [
              1,
              "#f0f921"
             ]
            ],
            "type": "histogram2d"
           }
          ],
          "histogram2dcontour": [
           {
            "colorbar": {
             "outlinewidth": 0,
             "ticks": ""
            },
            "colorscale": [
             [
              0,
              "#0d0887"
             ],
             [
              0.1111111111111111,
              "#46039f"
             ],
             [
              0.2222222222222222,
              "#7201a8"
             ],
             [
              0.3333333333333333,
              "#9c179e"
             ],
             [
              0.4444444444444444,
              "#bd3786"
             ],
             [
              0.5555555555555556,
              "#d8576b"
             ],
             [
              0.6666666666666666,
              "#ed7953"
             ],
             [
              0.7777777777777778,
              "#fb9f3a"
             ],
             [
              0.8888888888888888,
              "#fdca26"
             ],
             [
              1,
              "#f0f921"
             ]
            ],
            "type": "histogram2dcontour"
           }
          ],
          "mesh3d": [
           {
            "colorbar": {
             "outlinewidth": 0,
             "ticks": ""
            },
            "type": "mesh3d"
           }
          ],
          "parcoords": [
           {
            "line": {
             "colorbar": {
              "outlinewidth": 0,
              "ticks": ""
             }
            },
            "type": "parcoords"
           }
          ],
          "pie": [
           {
            "automargin": true,
            "type": "pie"
           }
          ],
          "scatter": [
           {
            "fillpattern": {
             "fillmode": "overlay",
             "size": 10,
             "solidity": 0.2
            },
            "type": "scatter"
           }
          ],
          "scatter3d": [
           {
            "line": {
             "colorbar": {
              "outlinewidth": 0,
              "ticks": ""
             }
            },
            "marker": {
             "colorbar": {
              "outlinewidth": 0,
              "ticks": ""
             }
            },
            "type": "scatter3d"
           }
          ],
          "scattercarpet": [
           {
            "marker": {
             "colorbar": {
              "outlinewidth": 0,
              "ticks": ""
             }
            },
            "type": "scattercarpet"
           }
          ],
          "scattergeo": [
           {
            "marker": {
             "colorbar": {
              "outlinewidth": 0,
              "ticks": ""
             }
            },
            "type": "scattergeo"
           }
          ],
          "scattergl": [
           {
            "marker": {
             "colorbar": {
              "outlinewidth": 0,
              "ticks": ""
             }
            },
            "type": "scattergl"
           }
          ],
          "scattermapbox": [
           {
            "marker": {
             "colorbar": {
              "outlinewidth": 0,
              "ticks": ""
             }
            },
            "type": "scattermapbox"
           }
          ],
          "scatterpolar": [
           {
            "marker": {
             "colorbar": {
              "outlinewidth": 0,
              "ticks": ""
             }
            },
            "type": "scatterpolar"
           }
          ],
          "scatterpolargl": [
           {
            "marker": {
             "colorbar": {
              "outlinewidth": 0,
              "ticks": ""
             }
            },
            "type": "scatterpolargl"
           }
          ],
          "scatterternary": [
           {
            "marker": {
             "colorbar": {
              "outlinewidth": 0,
              "ticks": ""
             }
            },
            "type": "scatterternary"
           }
          ],
          "surface": [
           {
            "colorbar": {
             "outlinewidth": 0,
             "ticks": ""
            },
            "colorscale": [
             [
              0,
              "#0d0887"
             ],
             [
              0.1111111111111111,
              "#46039f"
             ],
             [
              0.2222222222222222,
              "#7201a8"
             ],
             [
              0.3333333333333333,
              "#9c179e"
             ],
             [
              0.4444444444444444,
              "#bd3786"
             ],
             [
              0.5555555555555556,
              "#d8576b"
             ],
             [
              0.6666666666666666,
              "#ed7953"
             ],
             [
              0.7777777777777778,
              "#fb9f3a"
             ],
             [
              0.8888888888888888,
              "#fdca26"
             ],
             [
              1,
              "#f0f921"
             ]
            ],
            "type": "surface"
           }
          ],
          "table": [
           {
            "cells": {
             "fill": {
              "color": "#EBF0F8"
             },
             "line": {
              "color": "white"
             }
            },
            "header": {
             "fill": {
              "color": "#C8D4E3"
             },
             "line": {
              "color": "white"
             }
            },
            "type": "table"
           }
          ]
         },
         "layout": {
          "annotationdefaults": {
           "arrowcolor": "#2a3f5f",
           "arrowhead": 0,
           "arrowwidth": 1
          },
          "autotypenumbers": "strict",
          "coloraxis": {
           "colorbar": {
            "outlinewidth": 0,
            "ticks": ""
           }
          },
          "colorscale": {
           "diverging": [
            [
             0,
             "#8e0152"
            ],
            [
             0.1,
             "#c51b7d"
            ],
            [
             0.2,
             "#de77ae"
            ],
            [
             0.3,
             "#f1b6da"
            ],
            [
             0.4,
             "#fde0ef"
            ],
            [
             0.5,
             "#f7f7f7"
            ],
            [
             0.6,
             "#e6f5d0"
            ],
            [
             0.7,
             "#b8e186"
            ],
            [
             0.8,
             "#7fbc41"
            ],
            [
             0.9,
             "#4d9221"
            ],
            [
             1,
             "#276419"
            ]
           ],
           "sequential": [
            [
             0,
             "#0d0887"
            ],
            [
             0.1111111111111111,
             "#46039f"
            ],
            [
             0.2222222222222222,
             "#7201a8"
            ],
            [
             0.3333333333333333,
             "#9c179e"
            ],
            [
             0.4444444444444444,
             "#bd3786"
            ],
            [
             0.5555555555555556,
             "#d8576b"
            ],
            [
             0.6666666666666666,
             "#ed7953"
            ],
            [
             0.7777777777777778,
             "#fb9f3a"
            ],
            [
             0.8888888888888888,
             "#fdca26"
            ],
            [
             1,
             "#f0f921"
            ]
           ],
           "sequentialminus": [
            [
             0,
             "#0d0887"
            ],
            [
             0.1111111111111111,
             "#46039f"
            ],
            [
             0.2222222222222222,
             "#7201a8"
            ],
            [
             0.3333333333333333,
             "#9c179e"
            ],
            [
             0.4444444444444444,
             "#bd3786"
            ],
            [
             0.5555555555555556,
             "#d8576b"
            ],
            [
             0.6666666666666666,
             "#ed7953"
            ],
            [
             0.7777777777777778,
             "#fb9f3a"
            ],
            [
             0.8888888888888888,
             "#fdca26"
            ],
            [
             1,
             "#f0f921"
            ]
           ]
          },
          "colorway": [
           "#636efa",
           "#EF553B",
           "#00cc96",
           "#ab63fa",
           "#FFA15A",
           "#19d3f3",
           "#FF6692",
           "#B6E880",
           "#FF97FF",
           "#FECB52"
          ],
          "font": {
           "color": "#2a3f5f"
          },
          "geo": {
           "bgcolor": "white",
           "lakecolor": "white",
           "landcolor": "#E5ECF6",
           "showlakes": true,
           "showland": true,
           "subunitcolor": "white"
          },
          "hoverlabel": {
           "align": "left"
          },
          "hovermode": "closest",
          "mapbox": {
           "style": "light"
          },
          "paper_bgcolor": "white",
          "plot_bgcolor": "#E5ECF6",
          "polar": {
           "angularaxis": {
            "gridcolor": "white",
            "linecolor": "white",
            "ticks": ""
           },
           "bgcolor": "#E5ECF6",
           "radialaxis": {
            "gridcolor": "white",
            "linecolor": "white",
            "ticks": ""
           }
          },
          "scene": {
           "xaxis": {
            "backgroundcolor": "#E5ECF6",
            "gridcolor": "white",
            "gridwidth": 2,
            "linecolor": "white",
            "showbackground": true,
            "ticks": "",
            "zerolinecolor": "white"
           },
           "yaxis": {
            "backgroundcolor": "#E5ECF6",
            "gridcolor": "white",
            "gridwidth": 2,
            "linecolor": "white",
            "showbackground": true,
            "ticks": "",
            "zerolinecolor": "white"
           },
           "zaxis": {
            "backgroundcolor": "#E5ECF6",
            "gridcolor": "white",
            "gridwidth": 2,
            "linecolor": "white",
            "showbackground": true,
            "ticks": "",
            "zerolinecolor": "white"
           }
          },
          "shapedefaults": {
           "line": {
            "color": "#2a3f5f"
           }
          },
          "ternary": {
           "aaxis": {
            "gridcolor": "white",
            "linecolor": "white",
            "ticks": ""
           },
           "baxis": {
            "gridcolor": "white",
            "linecolor": "white",
            "ticks": ""
           },
           "bgcolor": "#E5ECF6",
           "caxis": {
            "gridcolor": "white",
            "linecolor": "white",
            "ticks": ""
           }
          },
          "title": {
           "x": 0.05
          },
          "xaxis": {
           "automargin": true,
           "gridcolor": "white",
           "linecolor": "white",
           "ticks": "",
           "title": {
            "standoff": 15
           },
           "zerolinecolor": "white",
           "zerolinewidth": 2
          },
          "yaxis": {
           "automargin": true,
           "gridcolor": "white",
           "linecolor": "white",
           "ticks": "",
           "title": {
            "standoff": 15
           },
           "zerolinecolor": "white",
           "zerolinewidth": 2
          }
         }
        },
        "title": {
         "text": "Median Sale Price (August 2023)"
        }
       }
      },
      "text/html": [
       "<div>                            <div id=\"7407a015-5087-4090-9316-ca43231a0e90\" class=\"plotly-graph-div\" style=\"height:525px; width:100%;\"></div>            <script type=\"text/javascript\">                require([\"plotly\"], function(Plotly) {                    window.PLOTLYENV=window.PLOTLYENV || {};                                    if (document.getElementById(\"7407a015-5087-4090-9316-ca43231a0e90\")) {                    Plotly.newPlot(                        \"7407a015-5087-4090-9316-ca43231a0e90\",                        [{\"colorbar\":{\"title\":{\"text\":\"USD\"}},\"colorscale\":[[0.0,\"rgb(255,245,240)\"],[0.125,\"rgb(254,224,210)\"],[0.25,\"rgb(252,187,161)\"],[0.375,\"rgb(252,146,114)\"],[0.5,\"rgb(251,106,74)\"],[0.625,\"rgb(239,59,44)\"],[0.75,\"rgb(203,24,29)\"],[0.875,\"rgb(165,15,21)\"],[1.0,\"rgb(103,0,13)\"]],\"locationmode\":\"USA-states\",\"locations\":[\"IL\",\"WV\",\"OH\",\"OK\",\"LA\",\"IN\",\"AR\",\"IA\",\"KY\",\"MS\",\"AL\",\"MO\",\"PA\",\"NM\",\"MI\",\"NE\",\"WI\",\"ND\",\"KS\",\"MN\",\"TX\",\"GA\",\"TN\",\"NY\",\"SC\",\"NC\",\"MD\",\"ME\",\"VA\",\"FL\",\"SD\",\"USA\",\"DE\",\"NJ\",\"AK\",\"NH\",\"CT\",\"AZ\",\"ID\",\"OR\",\"RI\",\"WY\",\"NV\",\"MT\",\"MA\",\"WA\",\"UT\",\"CA\",\"CO\",\"HI\"],\"z\":[150316.66666666666,185000.0,185026.13888888888,187145.83333333334,203893.75,206998.21739130435,215750.0,215750.0,221004.16666666666,222500.0,223070.83333333334,223338.23529411765,226993.78260869565,232583.33333333334,233446.60869565216,249794.4,254738.09523809524,263816.6666666667,277000.0,277266.6666666667,279527.0967741936,280518.1818181818,283502.5,287397.36842105264,299808.3333333333,308535.9375,320625.0,333750.0,350655.55555555556,352809.6153846154,356225.0,360000.0,363000.0,372889.25,375000.0,396275.0,405200.0,413404.3333333333,418229.22222222225,430043.3333333333,444500.0,453600.0,464833.3333333333,465412.5,484505.0,491183.3333333333,552142.1428571428,615958.3333333334,628425.0,836625.0],\"type\":\"choropleth\"}],                        {\"template\":{\"data\":{\"histogram2dcontour\":[{\"type\":\"histogram2dcontour\",\"colorbar\":{\"outlinewidth\":0,\"ticks\":\"\"},\"colorscale\":[[0.0,\"#0d0887\"],[0.1111111111111111,\"#46039f\"],[0.2222222222222222,\"#7201a8\"],[0.3333333333333333,\"#9c179e\"],[0.4444444444444444,\"#bd3786\"],[0.5555555555555556,\"#d8576b\"],[0.6666666666666666,\"#ed7953\"],[0.7777777777777778,\"#fb9f3a\"],[0.8888888888888888,\"#fdca26\"],[1.0,\"#f0f921\"]]}],\"choropleth\":[{\"type\":\"choropleth\",\"colorbar\":{\"outlinewidth\":0,\"ticks\":\"\"}}],\"histogram2d\":[{\"type\":\"histogram2d\",\"colorbar\":{\"outlinewidth\":0,\"ticks\":\"\"},\"colorscale\":[[0.0,\"#0d0887\"],[0.1111111111111111,\"#46039f\"],[0.2222222222222222,\"#7201a8\"],[0.3333333333333333,\"#9c179e\"],[0.4444444444444444,\"#bd3786\"],[0.5555555555555556,\"#d8576b\"],[0.6666666666666666,\"#ed7953\"],[0.7777777777777778,\"#fb9f3a\"],[0.8888888888888888,\"#fdca26\"],[1.0,\"#f0f921\"]]}],\"heatmap\":[{\"type\":\"heatmap\",\"colorbar\":{\"outlinewidth\":0,\"ticks\":\"\"},\"colorscale\":[[0.0,\"#0d0887\"],[0.1111111111111111,\"#46039f\"],[0.2222222222222222,\"#7201a8\"],[0.3333333333333333,\"#9c179e\"],[0.4444444444444444,\"#bd3786\"],[0.5555555555555556,\"#d8576b\"],[0.6666666666666666,\"#ed7953\"],[0.7777777777777778,\"#fb9f3a\"],[0.8888888888888888,\"#fdca26\"],[1.0,\"#f0f921\"]]}],\"heatmapgl\":[{\"type\":\"heatmapgl\",\"colorbar\":{\"outlinewidth\":0,\"ticks\":\"\"},\"colorscale\":[[0.0,\"#0d0887\"],[0.1111111111111111,\"#46039f\"],[0.2222222222222222,\"#7201a8\"],[0.3333333333333333,\"#9c179e\"],[0.4444444444444444,\"#bd3786\"],[0.5555555555555556,\"#d8576b\"],[0.6666666666666666,\"#ed7953\"],[0.7777777777777778,\"#fb9f3a\"],[0.8888888888888888,\"#fdca26\"],[1.0,\"#f0f921\"]]}],\"contourcarpet\":[{\"type\":\"contourcarpet\",\"colorbar\":{\"outlinewidth\":0,\"ticks\":\"\"}}],\"contour\":[{\"type\":\"contour\",\"colorbar\":{\"outlinewidth\":0,\"ticks\":\"\"},\"colorscale\":[[0.0,\"#0d0887\"],[0.1111111111111111,\"#46039f\"],[0.2222222222222222,\"#7201a8\"],[0.3333333333333333,\"#9c179e\"],[0.4444444444444444,\"#bd3786\"],[0.5555555555555556,\"#d8576b\"],[0.6666666666666666,\"#ed7953\"],[0.7777777777777778,\"#fb9f3a\"],[0.8888888888888888,\"#fdca26\"],[1.0,\"#f0f921\"]]}],\"surface\":[{\"type\":\"surface\",\"colorbar\":{\"outlinewidth\":0,\"ticks\":\"\"},\"colorscale\":[[0.0,\"#0d0887\"],[0.1111111111111111,\"#46039f\"],[0.2222222222222222,\"#7201a8\"],[0.3333333333333333,\"#9c179e\"],[0.4444444444444444,\"#bd3786\"],[0.5555555555555556,\"#d8576b\"],[0.6666666666666666,\"#ed7953\"],[0.7777777777777778,\"#fb9f3a\"],[0.8888888888888888,\"#fdca26\"],[1.0,\"#f0f921\"]]}],\"mesh3d\":[{\"type\":\"mesh3d\",\"colorbar\":{\"outlinewidth\":0,\"ticks\":\"\"}}],\"scatter\":[{\"fillpattern\":{\"fillmode\":\"overlay\",\"size\":10,\"solidity\":0.2},\"type\":\"scatter\"}],\"parcoords\":[{\"type\":\"parcoords\",\"line\":{\"colorbar\":{\"outlinewidth\":0,\"ticks\":\"\"}}}],\"scatterpolargl\":[{\"type\":\"scatterpolargl\",\"marker\":{\"colorbar\":{\"outlinewidth\":0,\"ticks\":\"\"}}}],\"bar\":[{\"error_x\":{\"color\":\"#2a3f5f\"},\"error_y\":{\"color\":\"#2a3f5f\"},\"marker\":{\"line\":{\"color\":\"#E5ECF6\",\"width\":0.5},\"pattern\":{\"fillmode\":\"overlay\",\"size\":10,\"solidity\":0.2}},\"type\":\"bar\"}],\"scattergeo\":[{\"type\":\"scattergeo\",\"marker\":{\"colorbar\":{\"outlinewidth\":0,\"ticks\":\"\"}}}],\"scatterpolar\":[{\"type\":\"scatterpolar\",\"marker\":{\"colorbar\":{\"outlinewidth\":0,\"ticks\":\"\"}}}],\"histogram\":[{\"marker\":{\"pattern\":{\"fillmode\":\"overlay\",\"size\":10,\"solidity\":0.2}},\"type\":\"histogram\"}],\"scattergl\":[{\"type\":\"scattergl\",\"marker\":{\"colorbar\":{\"outlinewidth\":0,\"ticks\":\"\"}}}],\"scatter3d\":[{\"type\":\"scatter3d\",\"line\":{\"colorbar\":{\"outlinewidth\":0,\"ticks\":\"\"}},\"marker\":{\"colorbar\":{\"outlinewidth\":0,\"ticks\":\"\"}}}],\"scattermapbox\":[{\"type\":\"scattermapbox\",\"marker\":{\"colorbar\":{\"outlinewidth\":0,\"ticks\":\"\"}}}],\"scatterternary\":[{\"type\":\"scatterternary\",\"marker\":{\"colorbar\":{\"outlinewidth\":0,\"ticks\":\"\"}}}],\"scattercarpet\":[{\"type\":\"scattercarpet\",\"marker\":{\"colorbar\":{\"outlinewidth\":0,\"ticks\":\"\"}}}],\"carpet\":[{\"aaxis\":{\"endlinecolor\":\"#2a3f5f\",\"gridcolor\":\"white\",\"linecolor\":\"white\",\"minorgridcolor\":\"white\",\"startlinecolor\":\"#2a3f5f\"},\"baxis\":{\"endlinecolor\":\"#2a3f5f\",\"gridcolor\":\"white\",\"linecolor\":\"white\",\"minorgridcolor\":\"white\",\"startlinecolor\":\"#2a3f5f\"},\"type\":\"carpet\"}],\"table\":[{\"cells\":{\"fill\":{\"color\":\"#EBF0F8\"},\"line\":{\"color\":\"white\"}},\"header\":{\"fill\":{\"color\":\"#C8D4E3\"},\"line\":{\"color\":\"white\"}},\"type\":\"table\"}],\"barpolar\":[{\"marker\":{\"line\":{\"color\":\"#E5ECF6\",\"width\":0.5},\"pattern\":{\"fillmode\":\"overlay\",\"size\":10,\"solidity\":0.2}},\"type\":\"barpolar\"}],\"pie\":[{\"automargin\":true,\"type\":\"pie\"}]},\"layout\":{\"autotypenumbers\":\"strict\",\"colorway\":[\"#636efa\",\"#EF553B\",\"#00cc96\",\"#ab63fa\",\"#FFA15A\",\"#19d3f3\",\"#FF6692\",\"#B6E880\",\"#FF97FF\",\"#FECB52\"],\"font\":{\"color\":\"#2a3f5f\"},\"hovermode\":\"closest\",\"hoverlabel\":{\"align\":\"left\"},\"paper_bgcolor\":\"white\",\"plot_bgcolor\":\"#E5ECF6\",\"polar\":{\"bgcolor\":\"#E5ECF6\",\"angularaxis\":{\"gridcolor\":\"white\",\"linecolor\":\"white\",\"ticks\":\"\"},\"radialaxis\":{\"gridcolor\":\"white\",\"linecolor\":\"white\",\"ticks\":\"\"}},\"ternary\":{\"bgcolor\":\"#E5ECF6\",\"aaxis\":{\"gridcolor\":\"white\",\"linecolor\":\"white\",\"ticks\":\"\"},\"baxis\":{\"gridcolor\":\"white\",\"linecolor\":\"white\",\"ticks\":\"\"},\"caxis\":{\"gridcolor\":\"white\",\"linecolor\":\"white\",\"ticks\":\"\"}},\"coloraxis\":{\"colorbar\":{\"outlinewidth\":0,\"ticks\":\"\"}},\"colorscale\":{\"sequential\":[[0.0,\"#0d0887\"],[0.1111111111111111,\"#46039f\"],[0.2222222222222222,\"#7201a8\"],[0.3333333333333333,\"#9c179e\"],[0.4444444444444444,\"#bd3786\"],[0.5555555555555556,\"#d8576b\"],[0.6666666666666666,\"#ed7953\"],[0.7777777777777778,\"#fb9f3a\"],[0.8888888888888888,\"#fdca26\"],[1.0,\"#f0f921\"]],\"sequentialminus\":[[0.0,\"#0d0887\"],[0.1111111111111111,\"#46039f\"],[0.2222222222222222,\"#7201a8\"],[0.3333333333333333,\"#9c179e\"],[0.4444444444444444,\"#bd3786\"],[0.5555555555555556,\"#d8576b\"],[0.6666666666666666,\"#ed7953\"],[0.7777777777777778,\"#fb9f3a\"],[0.8888888888888888,\"#fdca26\"],[1.0,\"#f0f921\"]],\"diverging\":[[0,\"#8e0152\"],[0.1,\"#c51b7d\"],[0.2,\"#de77ae\"],[0.3,\"#f1b6da\"],[0.4,\"#fde0ef\"],[0.5,\"#f7f7f7\"],[0.6,\"#e6f5d0\"],[0.7,\"#b8e186\"],[0.8,\"#7fbc41\"],[0.9,\"#4d9221\"],[1,\"#276419\"]]},\"xaxis\":{\"gridcolor\":\"white\",\"linecolor\":\"white\",\"ticks\":\"\",\"title\":{\"standoff\":15},\"zerolinecolor\":\"white\",\"automargin\":true,\"zerolinewidth\":2},\"yaxis\":{\"gridcolor\":\"white\",\"linecolor\":\"white\",\"ticks\":\"\",\"title\":{\"standoff\":15},\"zerolinecolor\":\"white\",\"automargin\":true,\"zerolinewidth\":2},\"scene\":{\"xaxis\":{\"backgroundcolor\":\"#E5ECF6\",\"gridcolor\":\"white\",\"linecolor\":\"white\",\"showbackground\":true,\"ticks\":\"\",\"zerolinecolor\":\"white\",\"gridwidth\":2},\"yaxis\":{\"backgroundcolor\":\"#E5ECF6\",\"gridcolor\":\"white\",\"linecolor\":\"white\",\"showbackground\":true,\"ticks\":\"\",\"zerolinecolor\":\"white\",\"gridwidth\":2},\"zaxis\":{\"backgroundcolor\":\"#E5ECF6\",\"gridcolor\":\"white\",\"linecolor\":\"white\",\"showbackground\":true,\"ticks\":\"\",\"zerolinecolor\":\"white\",\"gridwidth\":2}},\"shapedefaults\":{\"line\":{\"color\":\"#2a3f5f\"}},\"annotationdefaults\":{\"arrowcolor\":\"#2a3f5f\",\"arrowhead\":0,\"arrowwidth\":1},\"geo\":{\"bgcolor\":\"white\",\"landcolor\":\"#E5ECF6\",\"subunitcolor\":\"white\",\"showland\":true,\"showlakes\":true,\"lakecolor\":\"white\"},\"title\":{\"x\":0.05},\"mapbox\":{\"style\":\"light\"}}},\"title\":{\"text\":\"Median Sale Price (August 2023)\"},\"geo\":{\"scope\":\"usa\"}},                        {\"responsive\": true}                    ).then(function(){\n",
       "                            \n",
       "var gd = document.getElementById('7407a015-5087-4090-9316-ca43231a0e90');\n",
       "var x = new MutationObserver(function (mutations, observer) {{\n",
       "        var display = window.getComputedStyle(gd).display;\n",
       "        if (!display || display === 'none') {{\n",
       "            console.log([gd, 'removed!']);\n",
       "            Plotly.purge(gd);\n",
       "            observer.disconnect();\n",
       "        }}\n",
       "}});\n",
       "\n",
       "// Listen for the removal of the full notebook cells\n",
       "var notebookContainer = gd.closest('#notebook-container');\n",
       "if (notebookContainer) {{\n",
       "    x.observe(notebookContainer, {childList: true});\n",
       "}}\n",
       "\n",
       "// Listen for the clearing of the current output cell\n",
       "var outputEl = gd.closest('.output');\n",
       "if (outputEl) {{\n",
       "    x.observe(outputEl, {childList: true});\n",
       "}}\n",
       "\n",
       "                        })                };                });            </script>        </div>"
      ]
     },
     "metadata": {},
     "output_type": "display_data"
    }
   ],
   "source": [
    "import plotly.graph_objects as go\n",
    "\n",
    "import pandas as pd\n",
    "df = B10_madian_sale_price_state_groupby_org_recent_df\n",
    "\n",
    "fig = go.Figure(data=go.Choropleth(\n",
    "    locations=df['StateName'], # Spatial coordinates\n",
    "    z = df['8/31/2023'].astype(float), # Data to be color-coded\n",
    "    locationmode = 'USA-states', # set of locations match entries in `locations`\n",
    "    colorscale = 'Reds',\n",
    "    colorbar_title = \"USD\",\n",
    "))\n",
    "\n",
    "fig.update_layout(\n",
    "    title_text = 'Median Sale Price (August 2023)',\n",
    "    geo_scope='usa', # limite map scope to USA\n",
    ")\n",
    "\n",
    "fig.show()"
   ]
  },
  {
   "cell_type": "code",
   "execution_count": 50,
   "metadata": {},
   "outputs": [
    {
     "name": "stdout",
     "output_type": "stream",
     "text": [
      "   StateName    8/31/2023\n",
      "0         HI  2664.777366\n",
      "1         CO  2437.720466\n",
      "2         VT  2387.523740\n",
      "3         CA  2312.848909\n",
      "4         MA  2176.228070\n",
      "5         FL  2110.072828\n",
      "6         CT  2108.875747\n",
      "7         RI  2103.774459\n",
      "8         NJ  2072.185293\n",
      "9        USA  2043.719504\n",
      "10        UT  1922.956782\n",
      "11        NH  1851.799063\n",
      "12        OR  1789.022402\n",
      "13        WA  1761.825689\n",
      "14        AK  1757.414356\n",
      "15        AZ  1754.219751\n",
      "16        NV  1751.553811\n",
      "17        DE  1746.298246\n",
      "18        ID  1665.927926\n",
      "19        WY  1651.075351\n",
      "20        ME  1648.806363\n",
      "21        MT  1614.653266\n",
      "22        NY  1607.039478\n",
      "23        SC  1605.935854\n",
      "24        VA  1559.878500\n",
      "25        NC  1511.032757\n",
      "26        GA  1492.395820\n",
      "27        MD  1482.822266\n",
      "28        TX  1420.733917\n",
      "29        TN  1413.996735\n",
      "30        NM  1354.700798\n",
      "31        AL  1350.040781\n",
      "32        MS  1328.085428\n",
      "33        MI  1310.865746\n",
      "34        PA  1229.778422\n",
      "35        LA  1189.953412\n",
      "36        SD  1173.307957\n",
      "37        KY  1141.697825\n",
      "38        MN  1139.792981\n",
      "39        IN  1132.450239\n",
      "40        NE  1128.807475\n",
      "41        AR  1112.113224\n",
      "42        WI  1109.656343\n",
      "43        OH  1100.412301\n",
      "44        OK  1057.545438\n",
      "45        IA  1052.900622\n",
      "46        IL  1039.993409\n",
      "47        WV  1022.717177\n",
      "48        KS  1009.722947\n",
      "49        MO   994.148589\n",
      "50        ND   975.254775\n"
     ]
    }
   ],
   "source": [
    "# Average Monthly Rent Price By State (August 2023)\n",
    "T10_rent_index_state = rent_index.drop(['RegionID', 'SizeRank', 'RegionType', 'RegionName'], axis=1)\n",
    "T10_rent_index_state_groupby = T10_rent_index_state.groupby('StateName').mean()\n",
    "T10_rent_index_state_groupby_org = T10_rent_index_state_groupby.nlargest(51, \"8/31/2023\")\n",
    "T10_rent_index_state_groupby_org_recent = T10_rent_index_state_groupby_org.loc[:, \"8/31/2023\"]\n",
    "T10_rent_index_state_groupby_org_recent_df = T10_rent_index_state_groupby_org_recent.reset_index()\n",
    "T10_rent_index_state_groupby_org_recent_df.columns = ['StateName', '8/31/2023']\n",
    "print(T10_rent_index_state_groupby_org_recent_df)"
   ]
  },
  {
   "cell_type": "code",
   "execution_count": 52,
   "metadata": {},
   "outputs": [
    {
     "data": {
      "application/vnd.plotly.v1+json": {
       "config": {
        "plotlyServerURL": "https://plot.ly"
       },
       "data": [
        {
         "colorbar": {
          "title": {
           "text": "USD"
          }
         },
         "colorscale": [
          [
           0,
           "rgb(255,245,240)"
          ],
          [
           0.125,
           "rgb(254,224,210)"
          ],
          [
           0.25,
           "rgb(252,187,161)"
          ],
          [
           0.375,
           "rgb(252,146,114)"
          ],
          [
           0.5,
           "rgb(251,106,74)"
          ],
          [
           0.625,
           "rgb(239,59,44)"
          ],
          [
           0.75,
           "rgb(203,24,29)"
          ],
          [
           0.875,
           "rgb(165,15,21)"
          ],
          [
           1,
           "rgb(103,0,13)"
          ]
         ],
         "locationmode": "USA-states",
         "locations": [
          "HI",
          "CO",
          "VT",
          "CA",
          "MA",
          "FL",
          "CT",
          "RI",
          "NJ",
          "USA",
          "UT",
          "NH",
          "OR",
          "WA",
          "AK",
          "AZ",
          "NV",
          "DE",
          "ID",
          "WY",
          "ME",
          "MT",
          "NY",
          "SC",
          "VA",
          "NC",
          "GA",
          "MD",
          "TX",
          "TN",
          "NM",
          "AL",
          "MS",
          "MI",
          "PA",
          "LA",
          "SD",
          "KY",
          "MN",
          "IN",
          "NE",
          "AR",
          "WI",
          "OH",
          "OK",
          "IA",
          "IL",
          "WV",
          "KS",
          "MO",
          "ND"
         ],
         "type": "choropleth",
         "z": [
          2664.7773663333332,
          2437.720465785714,
          2387.52374,
          2312.84890875,
          2176.2280702,
          2110.0728275833335,
          2108.8757468,
          2103.774459,
          2072.1852926666666,
          2043.719504,
          1922.956782,
          1851.7990628,
          1789.0224019333332,
          1761.8256886666668,
          1757.4143555,
          1754.2197514285713,
          1751.5538111428573,
          1746.2982455000001,
          1665.927926288889,
          1651.0753505714285,
          1648.80636325,
          1614.6532655714286,
          1607.0394784315788,
          1605.9358543333333,
          1559.8785003181818,
          1511.0327571363634,
          1492.395819957895,
          1482.822265625,
          1420.733917090909,
          1413.9967346199999,
          1354.700798,
          1350.040781225,
          1328.0854279999999,
          1310.8657460333334,
          1229.7784220045453,
          1189.9534122416667,
          1173.3079568,
          1141.6978248444443,
          1139.7929813461537,
          1132.4502386933334,
          1128.8074748428571,
          1112.1132241875,
          1109.6563434315788,
          1100.4123008450001,
          1057.5454379692308,
          1052.9006217222222,
          1039.9934092199999,
          1022.7171768500001,
          1009.7229471142857,
          994.1485894538462,
          975.2547747
         ]
        }
       ],
       "layout": {
        "geo": {
         "scope": "usa"
        },
        "template": {
         "data": {
          "bar": [
           {
            "error_x": {
             "color": "#2a3f5f"
            },
            "error_y": {
             "color": "#2a3f5f"
            },
            "marker": {
             "line": {
              "color": "#E5ECF6",
              "width": 0.5
             },
             "pattern": {
              "fillmode": "overlay",
              "size": 10,
              "solidity": 0.2
             }
            },
            "type": "bar"
           }
          ],
          "barpolar": [
           {
            "marker": {
             "line": {
              "color": "#E5ECF6",
              "width": 0.5
             },
             "pattern": {
              "fillmode": "overlay",
              "size": 10,
              "solidity": 0.2
             }
            },
            "type": "barpolar"
           }
          ],
          "carpet": [
           {
            "aaxis": {
             "endlinecolor": "#2a3f5f",
             "gridcolor": "white",
             "linecolor": "white",
             "minorgridcolor": "white",
             "startlinecolor": "#2a3f5f"
            },
            "baxis": {
             "endlinecolor": "#2a3f5f",
             "gridcolor": "white",
             "linecolor": "white",
             "minorgridcolor": "white",
             "startlinecolor": "#2a3f5f"
            },
            "type": "carpet"
           }
          ],
          "choropleth": [
           {
            "colorbar": {
             "outlinewidth": 0,
             "ticks": ""
            },
            "type": "choropleth"
           }
          ],
          "contour": [
           {
            "colorbar": {
             "outlinewidth": 0,
             "ticks": ""
            },
            "colorscale": [
             [
              0,
              "#0d0887"
             ],
             [
              0.1111111111111111,
              "#46039f"
             ],
             [
              0.2222222222222222,
              "#7201a8"
             ],
             [
              0.3333333333333333,
              "#9c179e"
             ],
             [
              0.4444444444444444,
              "#bd3786"
             ],
             [
              0.5555555555555556,
              "#d8576b"
             ],
             [
              0.6666666666666666,
              "#ed7953"
             ],
             [
              0.7777777777777778,
              "#fb9f3a"
             ],
             [
              0.8888888888888888,
              "#fdca26"
             ],
             [
              1,
              "#f0f921"
             ]
            ],
            "type": "contour"
           }
          ],
          "contourcarpet": [
           {
            "colorbar": {
             "outlinewidth": 0,
             "ticks": ""
            },
            "type": "contourcarpet"
           }
          ],
          "heatmap": [
           {
            "colorbar": {
             "outlinewidth": 0,
             "ticks": ""
            },
            "colorscale": [
             [
              0,
              "#0d0887"
             ],
             [
              0.1111111111111111,
              "#46039f"
             ],
             [
              0.2222222222222222,
              "#7201a8"
             ],
             [
              0.3333333333333333,
              "#9c179e"
             ],
             [
              0.4444444444444444,
              "#bd3786"
             ],
             [
              0.5555555555555556,
              "#d8576b"
             ],
             [
              0.6666666666666666,
              "#ed7953"
             ],
             [
              0.7777777777777778,
              "#fb9f3a"
             ],
             [
              0.8888888888888888,
              "#fdca26"
             ],
             [
              1,
              "#f0f921"
             ]
            ],
            "type": "heatmap"
           }
          ],
          "heatmapgl": [
           {
            "colorbar": {
             "outlinewidth": 0,
             "ticks": ""
            },
            "colorscale": [
             [
              0,
              "#0d0887"
             ],
             [
              0.1111111111111111,
              "#46039f"
             ],
             [
              0.2222222222222222,
              "#7201a8"
             ],
             [
              0.3333333333333333,
              "#9c179e"
             ],
             [
              0.4444444444444444,
              "#bd3786"
             ],
             [
              0.5555555555555556,
              "#d8576b"
             ],
             [
              0.6666666666666666,
              "#ed7953"
             ],
             [
              0.7777777777777778,
              "#fb9f3a"
             ],
             [
              0.8888888888888888,
              "#fdca26"
             ],
             [
              1,
              "#f0f921"
             ]
            ],
            "type": "heatmapgl"
           }
          ],
          "histogram": [
           {
            "marker": {
             "pattern": {
              "fillmode": "overlay",
              "size": 10,
              "solidity": 0.2
             }
            },
            "type": "histogram"
           }
          ],
          "histogram2d": [
           {
            "colorbar": {
             "outlinewidth": 0,
             "ticks": ""
            },
            "colorscale": [
             [
              0,
              "#0d0887"
             ],
             [
              0.1111111111111111,
              "#46039f"
             ],
             [
              0.2222222222222222,
              "#7201a8"
             ],
             [
              0.3333333333333333,
              "#9c179e"
             ],
             [
              0.4444444444444444,
              "#bd3786"
             ],
             [
              0.5555555555555556,
              "#d8576b"
             ],
             [
              0.6666666666666666,
              "#ed7953"
             ],
             [
              0.7777777777777778,
              "#fb9f3a"
             ],
             [
              0.8888888888888888,
              "#fdca26"
             ],
             [
              1,
              "#f0f921"
             ]
            ],
            "type": "histogram2d"
           }
          ],
          "histogram2dcontour": [
           {
            "colorbar": {
             "outlinewidth": 0,
             "ticks": ""
            },
            "colorscale": [
             [
              0,
              "#0d0887"
             ],
             [
              0.1111111111111111,
              "#46039f"
             ],
             [
              0.2222222222222222,
              "#7201a8"
             ],
             [
              0.3333333333333333,
              "#9c179e"
             ],
             [
              0.4444444444444444,
              "#bd3786"
             ],
             [
              0.5555555555555556,
              "#d8576b"
             ],
             [
              0.6666666666666666,
              "#ed7953"
             ],
             [
              0.7777777777777778,
              "#fb9f3a"
             ],
             [
              0.8888888888888888,
              "#fdca26"
             ],
             [
              1,
              "#f0f921"
             ]
            ],
            "type": "histogram2dcontour"
           }
          ],
          "mesh3d": [
           {
            "colorbar": {
             "outlinewidth": 0,
             "ticks": ""
            },
            "type": "mesh3d"
           }
          ],
          "parcoords": [
           {
            "line": {
             "colorbar": {
              "outlinewidth": 0,
              "ticks": ""
             }
            },
            "type": "parcoords"
           }
          ],
          "pie": [
           {
            "automargin": true,
            "type": "pie"
           }
          ],
          "scatter": [
           {
            "fillpattern": {
             "fillmode": "overlay",
             "size": 10,
             "solidity": 0.2
            },
            "type": "scatter"
           }
          ],
          "scatter3d": [
           {
            "line": {
             "colorbar": {
              "outlinewidth": 0,
              "ticks": ""
             }
            },
            "marker": {
             "colorbar": {
              "outlinewidth": 0,
              "ticks": ""
             }
            },
            "type": "scatter3d"
           }
          ],
          "scattercarpet": [
           {
            "marker": {
             "colorbar": {
              "outlinewidth": 0,
              "ticks": ""
             }
            },
            "type": "scattercarpet"
           }
          ],
          "scattergeo": [
           {
            "marker": {
             "colorbar": {
              "outlinewidth": 0,
              "ticks": ""
             }
            },
            "type": "scattergeo"
           }
          ],
          "scattergl": [
           {
            "marker": {
             "colorbar": {
              "outlinewidth": 0,
              "ticks": ""
             }
            },
            "type": "scattergl"
           }
          ],
          "scattermapbox": [
           {
            "marker": {
             "colorbar": {
              "outlinewidth": 0,
              "ticks": ""
             }
            },
            "type": "scattermapbox"
           }
          ],
          "scatterpolar": [
           {
            "marker": {
             "colorbar": {
              "outlinewidth": 0,
              "ticks": ""
             }
            },
            "type": "scatterpolar"
           }
          ],
          "scatterpolargl": [
           {
            "marker": {
             "colorbar": {
              "outlinewidth": 0,
              "ticks": ""
             }
            },
            "type": "scatterpolargl"
           }
          ],
          "scatterternary": [
           {
            "marker": {
             "colorbar": {
              "outlinewidth": 0,
              "ticks": ""
             }
            },
            "type": "scatterternary"
           }
          ],
          "surface": [
           {
            "colorbar": {
             "outlinewidth": 0,
             "ticks": ""
            },
            "colorscale": [
             [
              0,
              "#0d0887"
             ],
             [
              0.1111111111111111,
              "#46039f"
             ],
             [
              0.2222222222222222,
              "#7201a8"
             ],
             [
              0.3333333333333333,
              "#9c179e"
             ],
             [
              0.4444444444444444,
              "#bd3786"
             ],
             [
              0.5555555555555556,
              "#d8576b"
             ],
             [
              0.6666666666666666,
              "#ed7953"
             ],
             [
              0.7777777777777778,
              "#fb9f3a"
             ],
             [
              0.8888888888888888,
              "#fdca26"
             ],
             [
              1,
              "#f0f921"
             ]
            ],
            "type": "surface"
           }
          ],
          "table": [
           {
            "cells": {
             "fill": {
              "color": "#EBF0F8"
             },
             "line": {
              "color": "white"
             }
            },
            "header": {
             "fill": {
              "color": "#C8D4E3"
             },
             "line": {
              "color": "white"
             }
            },
            "type": "table"
           }
          ]
         },
         "layout": {
          "annotationdefaults": {
           "arrowcolor": "#2a3f5f",
           "arrowhead": 0,
           "arrowwidth": 1
          },
          "autotypenumbers": "strict",
          "coloraxis": {
           "colorbar": {
            "outlinewidth": 0,
            "ticks": ""
           }
          },
          "colorscale": {
           "diverging": [
            [
             0,
             "#8e0152"
            ],
            [
             0.1,
             "#c51b7d"
            ],
            [
             0.2,
             "#de77ae"
            ],
            [
             0.3,
             "#f1b6da"
            ],
            [
             0.4,
             "#fde0ef"
            ],
            [
             0.5,
             "#f7f7f7"
            ],
            [
             0.6,
             "#e6f5d0"
            ],
            [
             0.7,
             "#b8e186"
            ],
            [
             0.8,
             "#7fbc41"
            ],
            [
             0.9,
             "#4d9221"
            ],
            [
             1,
             "#276419"
            ]
           ],
           "sequential": [
            [
             0,
             "#0d0887"
            ],
            [
             0.1111111111111111,
             "#46039f"
            ],
            [
             0.2222222222222222,
             "#7201a8"
            ],
            [
             0.3333333333333333,
             "#9c179e"
            ],
            [
             0.4444444444444444,
             "#bd3786"
            ],
            [
             0.5555555555555556,
             "#d8576b"
            ],
            [
             0.6666666666666666,
             "#ed7953"
            ],
            [
             0.7777777777777778,
             "#fb9f3a"
            ],
            [
             0.8888888888888888,
             "#fdca26"
            ],
            [
             1,
             "#f0f921"
            ]
           ],
           "sequentialminus": [
            [
             0,
             "#0d0887"
            ],
            [
             0.1111111111111111,
             "#46039f"
            ],
            [
             0.2222222222222222,
             "#7201a8"
            ],
            [
             0.3333333333333333,
             "#9c179e"
            ],
            [
             0.4444444444444444,
             "#bd3786"
            ],
            [
             0.5555555555555556,
             "#d8576b"
            ],
            [
             0.6666666666666666,
             "#ed7953"
            ],
            [
             0.7777777777777778,
             "#fb9f3a"
            ],
            [
             0.8888888888888888,
             "#fdca26"
            ],
            [
             1,
             "#f0f921"
            ]
           ]
          },
          "colorway": [
           "#636efa",
           "#EF553B",
           "#00cc96",
           "#ab63fa",
           "#FFA15A",
           "#19d3f3",
           "#FF6692",
           "#B6E880",
           "#FF97FF",
           "#FECB52"
          ],
          "font": {
           "color": "#2a3f5f"
          },
          "geo": {
           "bgcolor": "white",
           "lakecolor": "white",
           "landcolor": "#E5ECF6",
           "showlakes": true,
           "showland": true,
           "subunitcolor": "white"
          },
          "hoverlabel": {
           "align": "left"
          },
          "hovermode": "closest",
          "mapbox": {
           "style": "light"
          },
          "paper_bgcolor": "white",
          "plot_bgcolor": "#E5ECF6",
          "polar": {
           "angularaxis": {
            "gridcolor": "white",
            "linecolor": "white",
            "ticks": ""
           },
           "bgcolor": "#E5ECF6",
           "radialaxis": {
            "gridcolor": "white",
            "linecolor": "white",
            "ticks": ""
           }
          },
          "scene": {
           "xaxis": {
            "backgroundcolor": "#E5ECF6",
            "gridcolor": "white",
            "gridwidth": 2,
            "linecolor": "white",
            "showbackground": true,
            "ticks": "",
            "zerolinecolor": "white"
           },
           "yaxis": {
            "backgroundcolor": "#E5ECF6",
            "gridcolor": "white",
            "gridwidth": 2,
            "linecolor": "white",
            "showbackground": true,
            "ticks": "",
            "zerolinecolor": "white"
           },
           "zaxis": {
            "backgroundcolor": "#E5ECF6",
            "gridcolor": "white",
            "gridwidth": 2,
            "linecolor": "white",
            "showbackground": true,
            "ticks": "",
            "zerolinecolor": "white"
           }
          },
          "shapedefaults": {
           "line": {
            "color": "#2a3f5f"
           }
          },
          "ternary": {
           "aaxis": {
            "gridcolor": "white",
            "linecolor": "white",
            "ticks": ""
           },
           "baxis": {
            "gridcolor": "white",
            "linecolor": "white",
            "ticks": ""
           },
           "bgcolor": "#E5ECF6",
           "caxis": {
            "gridcolor": "white",
            "linecolor": "white",
            "ticks": ""
           }
          },
          "title": {
           "x": 0.05
          },
          "xaxis": {
           "automargin": true,
           "gridcolor": "white",
           "linecolor": "white",
           "ticks": "",
           "title": {
            "standoff": 15
           },
           "zerolinecolor": "white",
           "zerolinewidth": 2
          },
          "yaxis": {
           "automargin": true,
           "gridcolor": "white",
           "linecolor": "white",
           "ticks": "",
           "title": {
            "standoff": 15
           },
           "zerolinecolor": "white",
           "zerolinewidth": 2
          }
         }
        },
        "title": {
         "text": "Average Monthly Rent Price (August 2023)"
        }
       }
      },
      "text/html": [
       "<div>                            <div id=\"958f849a-d61c-4a93-8177-9a97944c8484\" class=\"plotly-graph-div\" style=\"height:525px; width:100%;\"></div>            <script type=\"text/javascript\">                require([\"plotly\"], function(Plotly) {                    window.PLOTLYENV=window.PLOTLYENV || {};                                    if (document.getElementById(\"958f849a-d61c-4a93-8177-9a97944c8484\")) {                    Plotly.newPlot(                        \"958f849a-d61c-4a93-8177-9a97944c8484\",                        [{\"colorbar\":{\"title\":{\"text\":\"USD\"}},\"colorscale\":[[0.0,\"rgb(255,245,240)\"],[0.125,\"rgb(254,224,210)\"],[0.25,\"rgb(252,187,161)\"],[0.375,\"rgb(252,146,114)\"],[0.5,\"rgb(251,106,74)\"],[0.625,\"rgb(239,59,44)\"],[0.75,\"rgb(203,24,29)\"],[0.875,\"rgb(165,15,21)\"],[1.0,\"rgb(103,0,13)\"]],\"locationmode\":\"USA-states\",\"locations\":[\"HI\",\"CO\",\"VT\",\"CA\",\"MA\",\"FL\",\"CT\",\"RI\",\"NJ\",\"USA\",\"UT\",\"NH\",\"OR\",\"WA\",\"AK\",\"AZ\",\"NV\",\"DE\",\"ID\",\"WY\",\"ME\",\"MT\",\"NY\",\"SC\",\"VA\",\"NC\",\"GA\",\"MD\",\"TX\",\"TN\",\"NM\",\"AL\",\"MS\",\"MI\",\"PA\",\"LA\",\"SD\",\"KY\",\"MN\",\"IN\",\"NE\",\"AR\",\"WI\",\"OH\",\"OK\",\"IA\",\"IL\",\"WV\",\"KS\",\"MO\",\"ND\"],\"z\":[2664.7773663333332,2437.720465785714,2387.52374,2312.84890875,2176.2280702,2110.0728275833335,2108.8757468,2103.774459,2072.1852926666666,2043.719504,1922.956782,1851.7990628,1789.0224019333332,1761.8256886666668,1757.4143555,1754.2197514285713,1751.5538111428573,1746.2982455000001,1665.927926288889,1651.0753505714285,1648.80636325,1614.6532655714286,1607.0394784315788,1605.9358543333333,1559.8785003181818,1511.0327571363634,1492.395819957895,1482.822265625,1420.733917090909,1413.9967346199999,1354.700798,1350.040781225,1328.0854279999999,1310.8657460333334,1229.7784220045453,1189.9534122416667,1173.3079568,1141.6978248444443,1139.7929813461537,1132.4502386933334,1128.8074748428571,1112.1132241875,1109.6563434315788,1100.4123008450001,1057.5454379692308,1052.9006217222222,1039.9934092199999,1022.7171768500001,1009.7229471142857,994.1485894538462,975.2547747],\"type\":\"choropleth\"}],                        {\"template\":{\"data\":{\"histogram2dcontour\":[{\"type\":\"histogram2dcontour\",\"colorbar\":{\"outlinewidth\":0,\"ticks\":\"\"},\"colorscale\":[[0.0,\"#0d0887\"],[0.1111111111111111,\"#46039f\"],[0.2222222222222222,\"#7201a8\"],[0.3333333333333333,\"#9c179e\"],[0.4444444444444444,\"#bd3786\"],[0.5555555555555556,\"#d8576b\"],[0.6666666666666666,\"#ed7953\"],[0.7777777777777778,\"#fb9f3a\"],[0.8888888888888888,\"#fdca26\"],[1.0,\"#f0f921\"]]}],\"choropleth\":[{\"type\":\"choropleth\",\"colorbar\":{\"outlinewidth\":0,\"ticks\":\"\"}}],\"histogram2d\":[{\"type\":\"histogram2d\",\"colorbar\":{\"outlinewidth\":0,\"ticks\":\"\"},\"colorscale\":[[0.0,\"#0d0887\"],[0.1111111111111111,\"#46039f\"],[0.2222222222222222,\"#7201a8\"],[0.3333333333333333,\"#9c179e\"],[0.4444444444444444,\"#bd3786\"],[0.5555555555555556,\"#d8576b\"],[0.6666666666666666,\"#ed7953\"],[0.7777777777777778,\"#fb9f3a\"],[0.8888888888888888,\"#fdca26\"],[1.0,\"#f0f921\"]]}],\"heatmap\":[{\"type\":\"heatmap\",\"colorbar\":{\"outlinewidth\":0,\"ticks\":\"\"},\"colorscale\":[[0.0,\"#0d0887\"],[0.1111111111111111,\"#46039f\"],[0.2222222222222222,\"#7201a8\"],[0.3333333333333333,\"#9c179e\"],[0.4444444444444444,\"#bd3786\"],[0.5555555555555556,\"#d8576b\"],[0.6666666666666666,\"#ed7953\"],[0.7777777777777778,\"#fb9f3a\"],[0.8888888888888888,\"#fdca26\"],[1.0,\"#f0f921\"]]}],\"heatmapgl\":[{\"type\":\"heatmapgl\",\"colorbar\":{\"outlinewidth\":0,\"ticks\":\"\"},\"colorscale\":[[0.0,\"#0d0887\"],[0.1111111111111111,\"#46039f\"],[0.2222222222222222,\"#7201a8\"],[0.3333333333333333,\"#9c179e\"],[0.4444444444444444,\"#bd3786\"],[0.5555555555555556,\"#d8576b\"],[0.6666666666666666,\"#ed7953\"],[0.7777777777777778,\"#fb9f3a\"],[0.8888888888888888,\"#fdca26\"],[1.0,\"#f0f921\"]]}],\"contourcarpet\":[{\"type\":\"contourcarpet\",\"colorbar\":{\"outlinewidth\":0,\"ticks\":\"\"}}],\"contour\":[{\"type\":\"contour\",\"colorbar\":{\"outlinewidth\":0,\"ticks\":\"\"},\"colorscale\":[[0.0,\"#0d0887\"],[0.1111111111111111,\"#46039f\"],[0.2222222222222222,\"#7201a8\"],[0.3333333333333333,\"#9c179e\"],[0.4444444444444444,\"#bd3786\"],[0.5555555555555556,\"#d8576b\"],[0.6666666666666666,\"#ed7953\"],[0.7777777777777778,\"#fb9f3a\"],[0.8888888888888888,\"#fdca26\"],[1.0,\"#f0f921\"]]}],\"surface\":[{\"type\":\"surface\",\"colorbar\":{\"outlinewidth\":0,\"ticks\":\"\"},\"colorscale\":[[0.0,\"#0d0887\"],[0.1111111111111111,\"#46039f\"],[0.2222222222222222,\"#7201a8\"],[0.3333333333333333,\"#9c179e\"],[0.4444444444444444,\"#bd3786\"],[0.5555555555555556,\"#d8576b\"],[0.6666666666666666,\"#ed7953\"],[0.7777777777777778,\"#fb9f3a\"],[0.8888888888888888,\"#fdca26\"],[1.0,\"#f0f921\"]]}],\"mesh3d\":[{\"type\":\"mesh3d\",\"colorbar\":{\"outlinewidth\":0,\"ticks\":\"\"}}],\"scatter\":[{\"fillpattern\":{\"fillmode\":\"overlay\",\"size\":10,\"solidity\":0.2},\"type\":\"scatter\"}],\"parcoords\":[{\"type\":\"parcoords\",\"line\":{\"colorbar\":{\"outlinewidth\":0,\"ticks\":\"\"}}}],\"scatterpolargl\":[{\"type\":\"scatterpolargl\",\"marker\":{\"colorbar\":{\"outlinewidth\":0,\"ticks\":\"\"}}}],\"bar\":[{\"error_x\":{\"color\":\"#2a3f5f\"},\"error_y\":{\"color\":\"#2a3f5f\"},\"marker\":{\"line\":{\"color\":\"#E5ECF6\",\"width\":0.5},\"pattern\":{\"fillmode\":\"overlay\",\"size\":10,\"solidity\":0.2}},\"type\":\"bar\"}],\"scattergeo\":[{\"type\":\"scattergeo\",\"marker\":{\"colorbar\":{\"outlinewidth\":0,\"ticks\":\"\"}}}],\"scatterpolar\":[{\"type\":\"scatterpolar\",\"marker\":{\"colorbar\":{\"outlinewidth\":0,\"ticks\":\"\"}}}],\"histogram\":[{\"marker\":{\"pattern\":{\"fillmode\":\"overlay\",\"size\":10,\"solidity\":0.2}},\"type\":\"histogram\"}],\"scattergl\":[{\"type\":\"scattergl\",\"marker\":{\"colorbar\":{\"outlinewidth\":0,\"ticks\":\"\"}}}],\"scatter3d\":[{\"type\":\"scatter3d\",\"line\":{\"colorbar\":{\"outlinewidth\":0,\"ticks\":\"\"}},\"marker\":{\"colorbar\":{\"outlinewidth\":0,\"ticks\":\"\"}}}],\"scattermapbox\":[{\"type\":\"scattermapbox\",\"marker\":{\"colorbar\":{\"outlinewidth\":0,\"ticks\":\"\"}}}],\"scatterternary\":[{\"type\":\"scatterternary\",\"marker\":{\"colorbar\":{\"outlinewidth\":0,\"ticks\":\"\"}}}],\"scattercarpet\":[{\"type\":\"scattercarpet\",\"marker\":{\"colorbar\":{\"outlinewidth\":0,\"ticks\":\"\"}}}],\"carpet\":[{\"aaxis\":{\"endlinecolor\":\"#2a3f5f\",\"gridcolor\":\"white\",\"linecolor\":\"white\",\"minorgridcolor\":\"white\",\"startlinecolor\":\"#2a3f5f\"},\"baxis\":{\"endlinecolor\":\"#2a3f5f\",\"gridcolor\":\"white\",\"linecolor\":\"white\",\"minorgridcolor\":\"white\",\"startlinecolor\":\"#2a3f5f\"},\"type\":\"carpet\"}],\"table\":[{\"cells\":{\"fill\":{\"color\":\"#EBF0F8\"},\"line\":{\"color\":\"white\"}},\"header\":{\"fill\":{\"color\":\"#C8D4E3\"},\"line\":{\"color\":\"white\"}},\"type\":\"table\"}],\"barpolar\":[{\"marker\":{\"line\":{\"color\":\"#E5ECF6\",\"width\":0.5},\"pattern\":{\"fillmode\":\"overlay\",\"size\":10,\"solidity\":0.2}},\"type\":\"barpolar\"}],\"pie\":[{\"automargin\":true,\"type\":\"pie\"}]},\"layout\":{\"autotypenumbers\":\"strict\",\"colorway\":[\"#636efa\",\"#EF553B\",\"#00cc96\",\"#ab63fa\",\"#FFA15A\",\"#19d3f3\",\"#FF6692\",\"#B6E880\",\"#FF97FF\",\"#FECB52\"],\"font\":{\"color\":\"#2a3f5f\"},\"hovermode\":\"closest\",\"hoverlabel\":{\"align\":\"left\"},\"paper_bgcolor\":\"white\",\"plot_bgcolor\":\"#E5ECF6\",\"polar\":{\"bgcolor\":\"#E5ECF6\",\"angularaxis\":{\"gridcolor\":\"white\",\"linecolor\":\"white\",\"ticks\":\"\"},\"radialaxis\":{\"gridcolor\":\"white\",\"linecolor\":\"white\",\"ticks\":\"\"}},\"ternary\":{\"bgcolor\":\"#E5ECF6\",\"aaxis\":{\"gridcolor\":\"white\",\"linecolor\":\"white\",\"ticks\":\"\"},\"baxis\":{\"gridcolor\":\"white\",\"linecolor\":\"white\",\"ticks\":\"\"},\"caxis\":{\"gridcolor\":\"white\",\"linecolor\":\"white\",\"ticks\":\"\"}},\"coloraxis\":{\"colorbar\":{\"outlinewidth\":0,\"ticks\":\"\"}},\"colorscale\":{\"sequential\":[[0.0,\"#0d0887\"],[0.1111111111111111,\"#46039f\"],[0.2222222222222222,\"#7201a8\"],[0.3333333333333333,\"#9c179e\"],[0.4444444444444444,\"#bd3786\"],[0.5555555555555556,\"#d8576b\"],[0.6666666666666666,\"#ed7953\"],[0.7777777777777778,\"#fb9f3a\"],[0.8888888888888888,\"#fdca26\"],[1.0,\"#f0f921\"]],\"sequentialminus\":[[0.0,\"#0d0887\"],[0.1111111111111111,\"#46039f\"],[0.2222222222222222,\"#7201a8\"],[0.3333333333333333,\"#9c179e\"],[0.4444444444444444,\"#bd3786\"],[0.5555555555555556,\"#d8576b\"],[0.6666666666666666,\"#ed7953\"],[0.7777777777777778,\"#fb9f3a\"],[0.8888888888888888,\"#fdca26\"],[1.0,\"#f0f921\"]],\"diverging\":[[0,\"#8e0152\"],[0.1,\"#c51b7d\"],[0.2,\"#de77ae\"],[0.3,\"#f1b6da\"],[0.4,\"#fde0ef\"],[0.5,\"#f7f7f7\"],[0.6,\"#e6f5d0\"],[0.7,\"#b8e186\"],[0.8,\"#7fbc41\"],[0.9,\"#4d9221\"],[1,\"#276419\"]]},\"xaxis\":{\"gridcolor\":\"white\",\"linecolor\":\"white\",\"ticks\":\"\",\"title\":{\"standoff\":15},\"zerolinecolor\":\"white\",\"automargin\":true,\"zerolinewidth\":2},\"yaxis\":{\"gridcolor\":\"white\",\"linecolor\":\"white\",\"ticks\":\"\",\"title\":{\"standoff\":15},\"zerolinecolor\":\"white\",\"automargin\":true,\"zerolinewidth\":2},\"scene\":{\"xaxis\":{\"backgroundcolor\":\"#E5ECF6\",\"gridcolor\":\"white\",\"linecolor\":\"white\",\"showbackground\":true,\"ticks\":\"\",\"zerolinecolor\":\"white\",\"gridwidth\":2},\"yaxis\":{\"backgroundcolor\":\"#E5ECF6\",\"gridcolor\":\"white\",\"linecolor\":\"white\",\"showbackground\":true,\"ticks\":\"\",\"zerolinecolor\":\"white\",\"gridwidth\":2},\"zaxis\":{\"backgroundcolor\":\"#E5ECF6\",\"gridcolor\":\"white\",\"linecolor\":\"white\",\"showbackground\":true,\"ticks\":\"\",\"zerolinecolor\":\"white\",\"gridwidth\":2}},\"shapedefaults\":{\"line\":{\"color\":\"#2a3f5f\"}},\"annotationdefaults\":{\"arrowcolor\":\"#2a3f5f\",\"arrowhead\":0,\"arrowwidth\":1},\"geo\":{\"bgcolor\":\"white\",\"landcolor\":\"#E5ECF6\",\"subunitcolor\":\"white\",\"showland\":true,\"showlakes\":true,\"lakecolor\":\"white\"},\"title\":{\"x\":0.05},\"mapbox\":{\"style\":\"light\"}}},\"title\":{\"text\":\"Average Monthly Rent Price (August 2023)\"},\"geo\":{\"scope\":\"usa\"}},                        {\"responsive\": true}                    ).then(function(){\n",
       "                            \n",
       "var gd = document.getElementById('958f849a-d61c-4a93-8177-9a97944c8484');\n",
       "var x = new MutationObserver(function (mutations, observer) {{\n",
       "        var display = window.getComputedStyle(gd).display;\n",
       "        if (!display || display === 'none') {{\n",
       "            console.log([gd, 'removed!']);\n",
       "            Plotly.purge(gd);\n",
       "            observer.disconnect();\n",
       "        }}\n",
       "}});\n",
       "\n",
       "// Listen for the removal of the full notebook cells\n",
       "var notebookContainer = gd.closest('#notebook-container');\n",
       "if (notebookContainer) {{\n",
       "    x.observe(notebookContainer, {childList: true});\n",
       "}}\n",
       "\n",
       "// Listen for the clearing of the current output cell\n",
       "var outputEl = gd.closest('.output');\n",
       "if (outputEl) {{\n",
       "    x.observe(outputEl, {childList: true});\n",
       "}}\n",
       "\n",
       "                        })                };                });            </script>        </div>"
      ]
     },
     "metadata": {},
     "output_type": "display_data"
    }
   ],
   "source": [
    "import plotly.graph_objects as go\n",
    "\n",
    "import pandas as pd\n",
    "df = T10_rent_index_state_groupby_org_recent_df\n",
    "\n",
    "fig = go.Figure(data=go.Choropleth(\n",
    "    locations=df['StateName'], # Spatial coordinates\n",
    "    z = df['8/31/2023'].astype(float), # Data to be color-coded\n",
    "    locationmode = 'USA-states', # set of locations match entries in `locations`\n",
    "    colorscale = 'Reds',\n",
    "    colorbar_title = \"USD\",\n",
    "))\n",
    "\n",
    "fig.update_layout(\n",
    "    title_text = 'Average Monthly Rent Price (August 2023)',\n",
    "    geo_scope='usa', # limite map scope to USA\n",
    ")\n",
    "\n",
    "fig.show()"
   ]
  },
  {
   "cell_type": "code",
   "execution_count": null,
   "metadata": {},
   "outputs": [],
   "source": []
  }
 ],
 "metadata": {
  "kernelspec": {
   "display_name": "Python 3 (ipykernel)",
   "language": "python",
   "name": "python3"
  },
  "language_info": {
   "codemirror_mode": {
    "name": "ipython",
    "version": 3
   },
   "file_extension": ".py",
   "mimetype": "text/x-python",
   "name": "python",
   "nbconvert_exporter": "python",
   "pygments_lexer": "ipython3",
   "version": "3.11.5"
  }
 },
 "nbformat": 4,
 "nbformat_minor": 2
}
